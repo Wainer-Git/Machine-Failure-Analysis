{
 "cells": [
  {
   "cell_type": "code",
   "execution_count": 1,
   "metadata": {},
   "outputs": [],
   "source": [
    "import pandas as pd \n",
    "import seaborn as sns \n",
    "import matplotlib.pyplot as plt\n",
    "import numpy as np "
   ]
  },
  {
   "cell_type": "code",
   "execution_count": 2,
   "metadata": {},
   "outputs": [
    {
     "data": {
      "text/html": [
       "<div>\n",
       "<style scoped>\n",
       "    .dataframe tbody tr th:only-of-type {\n",
       "        vertical-align: middle;\n",
       "    }\n",
       "\n",
       "    .dataframe tbody tr th {\n",
       "        vertical-align: top;\n",
       "    }\n",
       "\n",
       "    .dataframe thead th {\n",
       "        text-align: right;\n",
       "    }\n",
       "</style>\n",
       "<table border=\"1\" class=\"dataframe\">\n",
       "  <thead>\n",
       "    <tr style=\"text-align: right;\">\n",
       "      <th></th>\n",
       "      <th>Report.date</th>\n",
       "      <th>Mlocation</th>\n",
       "      <th>Zone</th>\n",
       "      <th>Start.date.time</th>\n",
       "      <th>End.date.time</th>\n",
       "      <th>Notification.sent</th>\n",
       "      <th>Off-line.duration</th>\n",
       "      <th>High.Level.Reason</th>\n",
       "    </tr>\n",
       "  </thead>\n",
       "  <tbody>\n",
       "    <tr>\n",
       "      <th>0</th>\n",
       "      <td>2018-09-01T00:00:00Z</td>\n",
       "      <td>AM0035</td>\n",
       "      <td>ZoneHASK</td>\n",
       "      <td>2018-09-01T07:49:00Z</td>\n",
       "      <td>2018-09-01T09:40:00Z</td>\n",
       "      <td>2018-09-01T08:10:00Z</td>\n",
       "      <td>1.850000</td>\n",
       "      <td>Most.p(CP_OFF)</td>\n",
       "    </tr>\n",
       "    <tr>\n",
       "      <th>1</th>\n",
       "      <td>2018-09-01T00:00:00Z</td>\n",
       "      <td>NM0208</td>\n",
       "      <td>ZoneBMAR</td>\n",
       "      <td>2018-09-01T11:43:00Z</td>\n",
       "      <td>2018-09-01T12:08:00Z</td>\n",
       "      <td>2018-09-01T12:03:00Z</td>\n",
       "      <td>0.416667</td>\n",
       "      <td>Most.p(CP_OFF)</td>\n",
       "    </tr>\n",
       "    <tr>\n",
       "      <th>2</th>\n",
       "      <td>2018-09-01T00:00:00Z</td>\n",
       "      <td>NM0217</td>\n",
       "      <td>ZoneBMAR</td>\n",
       "      <td>2018-09-01T11:43:00Z</td>\n",
       "      <td>2018-09-01T12:08:00Z</td>\n",
       "      <td>2018-09-01T12:03:00Z</td>\n",
       "      <td>0.416667</td>\n",
       "      <td>Most.p(CP_OFF)</td>\n",
       "    </tr>\n",
       "    <tr>\n",
       "      <th>3</th>\n",
       "      <td>2018-09-01T00:00:00Z</td>\n",
       "      <td>AM0015</td>\n",
       "      <td>ZoneBMAR</td>\n",
       "      <td>2018-09-01T11:20:00Z</td>\n",
       "      <td>2018-09-01T14:43:00Z</td>\n",
       "      <td>2018-09-01T11:40:00Z</td>\n",
       "      <td>3.383333</td>\n",
       "      <td>Most.p(CP_OFF)</td>\n",
       "    </tr>\n",
       "    <tr>\n",
       "      <th>4</th>\n",
       "      <td>2018-09-01T00:00:00Z</td>\n",
       "      <td>GM0066</td>\n",
       "      <td>ZoneBMAR</td>\n",
       "      <td>2018-09-01T11:20:00Z</td>\n",
       "      <td>2018-09-01T14:43:00Z</td>\n",
       "      <td>2018-09-01T11:40:00Z</td>\n",
       "      <td>3.383333</td>\n",
       "      <td>Most.p(CP_OFF)</td>\n",
       "    </tr>\n",
       "  </tbody>\n",
       "</table>\n",
       "</div>"
      ],
      "text/plain": [
       "            Report.date Mlocation      Zone       Start.date.time  \\\n",
       "0  2018-09-01T00:00:00Z    AM0035  ZoneHASK  2018-09-01T07:49:00Z   \n",
       "1  2018-09-01T00:00:00Z    NM0208  ZoneBMAR  2018-09-01T11:43:00Z   \n",
       "2  2018-09-01T00:00:00Z    NM0217  ZoneBMAR  2018-09-01T11:43:00Z   \n",
       "3  2018-09-01T00:00:00Z    AM0015  ZoneBMAR  2018-09-01T11:20:00Z   \n",
       "4  2018-09-01T00:00:00Z    GM0066  ZoneBMAR  2018-09-01T11:20:00Z   \n",
       "\n",
       "          End.date.time     Notification.sent  Off-line.duration  \\\n",
       "0  2018-09-01T09:40:00Z  2018-09-01T08:10:00Z           1.850000   \n",
       "1  2018-09-01T12:08:00Z  2018-09-01T12:03:00Z           0.416667   \n",
       "2  2018-09-01T12:08:00Z  2018-09-01T12:03:00Z           0.416667   \n",
       "3  2018-09-01T14:43:00Z  2018-09-01T11:40:00Z           3.383333   \n",
       "4  2018-09-01T14:43:00Z  2018-09-01T11:40:00Z           3.383333   \n",
       "\n",
       "  High.Level.Reason  \n",
       "0    Most.p(CP_OFF)  \n",
       "1    Most.p(CP_OFF)  \n",
       "2    Most.p(CP_OFF)  \n",
       "3    Most.p(CP_OFF)  \n",
       "4    Most.p(CP_OFF)  "
      ]
     },
     "execution_count": 2,
     "metadata": {},
     "output_type": "execute_result"
    }
   ],
   "source": [
    "df = pd.read_csv('MFAR.csv')\n",
    "df.head()"
   ]
  },
  {
   "cell_type": "code",
   "execution_count": 3,
   "metadata": {},
   "outputs": [],
   "source": [
    "df.rename(columns={'Start.date.time':'SData', 'End.date.time':'EData', 'Notification.sent':'NData', 'Report.date':'RData'\n",
    "                  }, inplace=True)"
   ]
  },
  {
   "cell_type": "code",
   "execution_count": 5,
   "metadata": {},
   "outputs": [
    {
     "data": {
      "text/html": [
       "<div>\n",
       "<style scoped>\n",
       "    .dataframe tbody tr th:only-of-type {\n",
       "        vertical-align: middle;\n",
       "    }\n",
       "\n",
       "    .dataframe tbody tr th {\n",
       "        vertical-align: top;\n",
       "    }\n",
       "\n",
       "    .dataframe thead th {\n",
       "        text-align: right;\n",
       "    }\n",
       "</style>\n",
       "<table border=\"1\" class=\"dataframe\">\n",
       "  <thead>\n",
       "    <tr style=\"text-align: right;\">\n",
       "      <th></th>\n",
       "      <th>RData</th>\n",
       "      <th>Mlocation</th>\n",
       "      <th>Zone</th>\n",
       "      <th>SData</th>\n",
       "      <th>EData</th>\n",
       "      <th>NData</th>\n",
       "      <th>Off-line.duration</th>\n",
       "      <th>High.Level.Reason</th>\n",
       "    </tr>\n",
       "  </thead>\n",
       "  <tbody>\n",
       "    <tr>\n",
       "      <th>0</th>\n",
       "      <td>2018-09-01T00:00:00Z</td>\n",
       "      <td>AM0035</td>\n",
       "      <td>ZoneHASK</td>\n",
       "      <td>2018-09-01T07:49:00Z</td>\n",
       "      <td>2018-09-01T09:40:00Z</td>\n",
       "      <td>2018-09-01T08:10:00Z</td>\n",
       "      <td>1.850000</td>\n",
       "      <td>Most.p(CP_OFF)</td>\n",
       "    </tr>\n",
       "    <tr>\n",
       "      <th>1</th>\n",
       "      <td>2018-09-01T00:00:00Z</td>\n",
       "      <td>NM0208</td>\n",
       "      <td>ZoneBMAR</td>\n",
       "      <td>2018-09-01T11:43:00Z</td>\n",
       "      <td>2018-09-01T12:08:00Z</td>\n",
       "      <td>2018-09-01T12:03:00Z</td>\n",
       "      <td>0.416667</td>\n",
       "      <td>Most.p(CP_OFF)</td>\n",
       "    </tr>\n",
       "    <tr>\n",
       "      <th>2</th>\n",
       "      <td>2018-09-01T00:00:00Z</td>\n",
       "      <td>NM0217</td>\n",
       "      <td>ZoneBMAR</td>\n",
       "      <td>2018-09-01T11:43:00Z</td>\n",
       "      <td>2018-09-01T12:08:00Z</td>\n",
       "      <td>2018-09-01T12:03:00Z</td>\n",
       "      <td>0.416667</td>\n",
       "      <td>Most.p(CP_OFF)</td>\n",
       "    </tr>\n",
       "    <tr>\n",
       "      <th>3</th>\n",
       "      <td>2018-09-01T00:00:00Z</td>\n",
       "      <td>AM0015</td>\n",
       "      <td>ZoneBMAR</td>\n",
       "      <td>2018-09-01T11:20:00Z</td>\n",
       "      <td>2018-09-01T14:43:00Z</td>\n",
       "      <td>2018-09-01T11:40:00Z</td>\n",
       "      <td>3.383333</td>\n",
       "      <td>Most.p(CP_OFF)</td>\n",
       "    </tr>\n",
       "    <tr>\n",
       "      <th>4</th>\n",
       "      <td>2018-09-01T00:00:00Z</td>\n",
       "      <td>GM0066</td>\n",
       "      <td>ZoneBMAR</td>\n",
       "      <td>2018-09-01T11:20:00Z</td>\n",
       "      <td>2018-09-01T14:43:00Z</td>\n",
       "      <td>2018-09-01T11:40:00Z</td>\n",
       "      <td>3.383333</td>\n",
       "      <td>Most.p(CP_OFF)</td>\n",
       "    </tr>\n",
       "  </tbody>\n",
       "</table>\n",
       "</div>"
      ],
      "text/plain": [
       "                  RData Mlocation      Zone                 SData  \\\n",
       "0  2018-09-01T00:00:00Z    AM0035  ZoneHASK  2018-09-01T07:49:00Z   \n",
       "1  2018-09-01T00:00:00Z    NM0208  ZoneBMAR  2018-09-01T11:43:00Z   \n",
       "2  2018-09-01T00:00:00Z    NM0217  ZoneBMAR  2018-09-01T11:43:00Z   \n",
       "3  2018-09-01T00:00:00Z    AM0015  ZoneBMAR  2018-09-01T11:20:00Z   \n",
       "4  2018-09-01T00:00:00Z    GM0066  ZoneBMAR  2018-09-01T11:20:00Z   \n",
       "\n",
       "                  EData                 NData  Off-line.duration  \\\n",
       "0  2018-09-01T09:40:00Z  2018-09-01T08:10:00Z           1.850000   \n",
       "1  2018-09-01T12:08:00Z  2018-09-01T12:03:00Z           0.416667   \n",
       "2  2018-09-01T12:08:00Z  2018-09-01T12:03:00Z           0.416667   \n",
       "3  2018-09-01T14:43:00Z  2018-09-01T11:40:00Z           3.383333   \n",
       "4  2018-09-01T14:43:00Z  2018-09-01T11:40:00Z           3.383333   \n",
       "\n",
       "  High.Level.Reason  \n",
       "0    Most.p(CP_OFF)  \n",
       "1    Most.p(CP_OFF)  \n",
       "2    Most.p(CP_OFF)  \n",
       "3    Most.p(CP_OFF)  \n",
       "4    Most.p(CP_OFF)  "
      ]
     },
     "execution_count": 5,
     "metadata": {},
     "output_type": "execute_result"
    }
   ],
   "source": [
    "df.head()"
   ]
  },
  {
   "cell_type": "code",
   "execution_count": 11,
   "metadata": {},
   "outputs": [
    {
     "data": {
      "text/html": [
       "<div>\n",
       "<style scoped>\n",
       "    .dataframe tbody tr th:only-of-type {\n",
       "        vertical-align: middle;\n",
       "    }\n",
       "\n",
       "    .dataframe tbody tr th {\n",
       "        vertical-align: top;\n",
       "    }\n",
       "\n",
       "    .dataframe thead th {\n",
       "        text-align: right;\n",
       "    }\n",
       "</style>\n",
       "<table border=\"1\" class=\"dataframe\">\n",
       "  <thead>\n",
       "    <tr style=\"text-align: right;\">\n",
       "      <th></th>\n",
       "      <th>RData</th>\n",
       "      <th>Mlocation</th>\n",
       "      <th>Zone</th>\n",
       "      <th>SData</th>\n",
       "      <th>EData</th>\n",
       "      <th>NData</th>\n",
       "      <th>Off-line.duration</th>\n",
       "      <th>High.Level.Reason</th>\n",
       "      <th>Start Hour</th>\n",
       "      <th>End Hour</th>\n",
       "      <th>Notification Hour</th>\n",
       "      <th>Report Data</th>\n",
       "      <th>Report Hour</th>\n",
       "    </tr>\n",
       "  </thead>\n",
       "  <tbody>\n",
       "    <tr>\n",
       "      <th>0</th>\n",
       "      <td>2018-09-01T00:00:00Z</td>\n",
       "      <td>AM0035</td>\n",
       "      <td>ZoneHASK</td>\n",
       "      <td>2018-09-01T07:49:00Z</td>\n",
       "      <td>2018-09-01T09:40:00Z</td>\n",
       "      <td>2018-09-01T08:10:00Z</td>\n",
       "      <td>1.850000</td>\n",
       "      <td>Most.p(CP_OFF)</td>\n",
       "      <td>07:49:00Z</td>\n",
       "      <td>09:40:00Z</td>\n",
       "      <td>08:10:00Z</td>\n",
       "      <td>2018-09-01</td>\n",
       "      <td>00:00:00Z</td>\n",
       "    </tr>\n",
       "    <tr>\n",
       "      <th>1</th>\n",
       "      <td>2018-09-01T00:00:00Z</td>\n",
       "      <td>NM0208</td>\n",
       "      <td>ZoneBMAR</td>\n",
       "      <td>2018-09-01T11:43:00Z</td>\n",
       "      <td>2018-09-01T12:08:00Z</td>\n",
       "      <td>2018-09-01T12:03:00Z</td>\n",
       "      <td>0.416667</td>\n",
       "      <td>Most.p(CP_OFF)</td>\n",
       "      <td>11:43:00Z</td>\n",
       "      <td>12:08:00Z</td>\n",
       "      <td>12:03:00Z</td>\n",
       "      <td>2018-09-01</td>\n",
       "      <td>00:00:00Z</td>\n",
       "    </tr>\n",
       "    <tr>\n",
       "      <th>2</th>\n",
       "      <td>2018-09-01T00:00:00Z</td>\n",
       "      <td>NM0217</td>\n",
       "      <td>ZoneBMAR</td>\n",
       "      <td>2018-09-01T11:43:00Z</td>\n",
       "      <td>2018-09-01T12:08:00Z</td>\n",
       "      <td>2018-09-01T12:03:00Z</td>\n",
       "      <td>0.416667</td>\n",
       "      <td>Most.p(CP_OFF)</td>\n",
       "      <td>11:43:00Z</td>\n",
       "      <td>12:08:00Z</td>\n",
       "      <td>12:03:00Z</td>\n",
       "      <td>2018-09-01</td>\n",
       "      <td>00:00:00Z</td>\n",
       "    </tr>\n",
       "    <tr>\n",
       "      <th>3</th>\n",
       "      <td>2018-09-01T00:00:00Z</td>\n",
       "      <td>AM0015</td>\n",
       "      <td>ZoneBMAR</td>\n",
       "      <td>2018-09-01T11:20:00Z</td>\n",
       "      <td>2018-09-01T14:43:00Z</td>\n",
       "      <td>2018-09-01T11:40:00Z</td>\n",
       "      <td>3.383333</td>\n",
       "      <td>Most.p(CP_OFF)</td>\n",
       "      <td>11:20:00Z</td>\n",
       "      <td>14:43:00Z</td>\n",
       "      <td>11:40:00Z</td>\n",
       "      <td>2018-09-01</td>\n",
       "      <td>00:00:00Z</td>\n",
       "    </tr>\n",
       "    <tr>\n",
       "      <th>4</th>\n",
       "      <td>2018-09-01T00:00:00Z</td>\n",
       "      <td>GM0066</td>\n",
       "      <td>ZoneBMAR</td>\n",
       "      <td>2018-09-01T11:20:00Z</td>\n",
       "      <td>2018-09-01T14:43:00Z</td>\n",
       "      <td>2018-09-01T11:40:00Z</td>\n",
       "      <td>3.383333</td>\n",
       "      <td>Most.p(CP_OFF)</td>\n",
       "      <td>11:20:00Z</td>\n",
       "      <td>14:43:00Z</td>\n",
       "      <td>11:40:00Z</td>\n",
       "      <td>2018-09-01</td>\n",
       "      <td>00:00:00Z</td>\n",
       "    </tr>\n",
       "  </tbody>\n",
       "</table>\n",
       "</div>"
      ],
      "text/plain": [
       "                  RData Mlocation      Zone                 SData  \\\n",
       "0  2018-09-01T00:00:00Z    AM0035  ZoneHASK  2018-09-01T07:49:00Z   \n",
       "1  2018-09-01T00:00:00Z    NM0208  ZoneBMAR  2018-09-01T11:43:00Z   \n",
       "2  2018-09-01T00:00:00Z    NM0217  ZoneBMAR  2018-09-01T11:43:00Z   \n",
       "3  2018-09-01T00:00:00Z    AM0015  ZoneBMAR  2018-09-01T11:20:00Z   \n",
       "4  2018-09-01T00:00:00Z    GM0066  ZoneBMAR  2018-09-01T11:20:00Z   \n",
       "\n",
       "                  EData                 NData  Off-line.duration  \\\n",
       "0  2018-09-01T09:40:00Z  2018-09-01T08:10:00Z           1.850000   \n",
       "1  2018-09-01T12:08:00Z  2018-09-01T12:03:00Z           0.416667   \n",
       "2  2018-09-01T12:08:00Z  2018-09-01T12:03:00Z           0.416667   \n",
       "3  2018-09-01T14:43:00Z  2018-09-01T11:40:00Z           3.383333   \n",
       "4  2018-09-01T14:43:00Z  2018-09-01T11:40:00Z           3.383333   \n",
       "\n",
       "  High.Level.Reason Start Hour   End Hour Notification Hour Report Data  \\\n",
       "0    Most.p(CP_OFF)  07:49:00Z  09:40:00Z         08:10:00Z  2018-09-01   \n",
       "1    Most.p(CP_OFF)  11:43:00Z  12:08:00Z         12:03:00Z  2018-09-01   \n",
       "2    Most.p(CP_OFF)  11:43:00Z  12:08:00Z         12:03:00Z  2018-09-01   \n",
       "3    Most.p(CP_OFF)  11:20:00Z  14:43:00Z         11:40:00Z  2018-09-01   \n",
       "4    Most.p(CP_OFF)  11:20:00Z  14:43:00Z         11:40:00Z  2018-09-01   \n",
       "\n",
       "  Report Hour  \n",
       "0   00:00:00Z  \n",
       "1   00:00:00Z  \n",
       "2   00:00:00Z  \n",
       "3   00:00:00Z  \n",
       "4   00:00:00Z  "
      ]
     },
     "execution_count": 11,
     "metadata": {},
     "output_type": "execute_result"
    }
   ],
   "source": [
    "df['Start Hour'] = df['SData'].apply(lambda SData: SData.split('T')[1])\n",
    "df['End Hour'] = df['EData'].apply(lambda EData:EData.split('T')[1])\n",
    "df['Notification Hour'] = df['NData'].apply(lambda NData: NData.split('T')[1])\n",
    "df['Report Data'] = df['RData'].apply(lambda RData: RData.split('T')[0])\n",
    "df['Report Hour'] = df['RData'].apply(lambda RData: RData.split('T')[1])\n",
    "df.head()"
   ]
  },
  {
   "cell_type": "code",
   "execution_count": 20,
   "metadata": {},
   "outputs": [
    {
     "data": {
      "text/plain": [
       "2018-09-14    106\n",
       "2019-01-31    104\n",
       "2019-07-09     99\n",
       "2019-12-24     94\n",
       "2019-05-26     88\n",
       "             ... \n",
       "2019-04-28      3\n",
       "2019-01-06      2\n",
       "2018-12-23      2\n",
       "2019-03-30      2\n",
       "2019-04-27      1\n",
       "Name: Report Data, Length: 482, dtype: int64"
      ]
     },
     "execution_count": 20,
     "metadata": {},
     "output_type": "execute_result"
    }
   ],
   "source": [
    "df['Report Data'].value_counts()"
   ]
  },
  {
   "cell_type": "code",
   "execution_count": 8,
   "metadata": {},
   "outputs": [
    {
     "data": {
      "text/plain": [
       "<matplotlib.axes._subplots.AxesSubplot at 0x45033b7c88>"
      ]
     },
     "execution_count": 8,
     "metadata": {},
     "output_type": "execute_result"
    },
    {
     "data": {
      "image/png": "[encoded data removed]",
      "text/plain": [
       "<Figure size 648x432 with 1 Axes>"
      ]
     },
     "metadata": {},
     "output_type": "display_data"
    }
   ],
   "source": [
    "sns.set_style('darkgrid')\n",
    "df['Zone'].value_counts().plot(kind='bar', figsize=(9,6))"
   ]
  },
  {
   "cell_type": "code",
   "execution_count": 9,
   "metadata": {},
   "outputs": [
    {
     "data": {
      "text/plain": [
       "<matplotlib.axes._subplots.AxesSubplot at 0x45054f98c8>"
      ]
     },
     "execution_count": 9,
     "metadata": {},
     "output_type": "execute_result"
    },
    {
     "data": {
      "image/png": "[encoded data removed]",
      "text/plain": [
       "<Figure size 432x288 with 1 Axes>"
      ]
     },
     "metadata": {},
     "output_type": "display_data"
    }
   ],
   "source": [
    "sns.set_style('darkgrid')\n",
    "df['Start Hour'].value_counts().head().plot(kind='bar')"
   ]
  },
  {
   "cell_type": "code",
   "execution_count": 10,
   "metadata": {},
   "outputs": [
    {
     "data": {
      "text/plain": [
       "<matplotlib.axes._subplots.AxesSubplot at 0x450556a2c8>"
      ]
     },
     "execution_count": 10,
     "metadata": {},
     "output_type": "execute_result"
    },
    {
     "data": {
      "image/png": "[encoded data removed]",
      "text/plain": [
       "<Figure size 648x432 with 1 Axes>"
      ]
     },
     "metadata": {},
     "output_type": "display_data"
    }
   ],
   "source": [
    "df['High.Level.Reason'].value_counts().plot(kind='bar', figsize=(9,6))"
   ]
  },
  {
   "cell_type": "code",
   "execution_count": 11,
   "metadata": {},
   "outputs": [
    {
     "data": {
      "text/plain": [
       "AM0023    215\n",
       "SM0258    205\n",
       "CM0055    161\n",
       "NM0216    145\n",
       "BM0041    145\n",
       "         ... \n",
       "SM0245      1\n",
       "AM0030      1\n",
       "KM0116      1\n",
       "KM0147      1\n",
       "NM0226      1\n",
       "Name: Mlocation, Length: 317, dtype: int64"
      ]
     },
     "execution_count": 11,
     "metadata": {},
     "output_type": "execute_result"
    }
   ],
   "source": [
    "df['Mlocation'].value_counts()"
   ]
  },
  {
   "cell_type": "code",
   "execution_count": 36,
   "metadata": {},
   "outputs": [
    {
     "data": {
      "text/html": [
       "<div>\n",
       "<style scoped>\n",
       "    .dataframe tbody tr th:only-of-type {\n",
       "        vertical-align: middle;\n",
       "    }\n",
       "\n",
       "    .dataframe tbody tr th {\n",
       "        vertical-align: top;\n",
       "    }\n",
       "\n",
       "    .dataframe thead th {\n",
       "        text-align: right;\n",
       "    }\n",
       "</style>\n",
       "<table border=\"1\" class=\"dataframe\">\n",
       "  <thead>\n",
       "    <tr style=\"text-align: right;\">\n",
       "      <th></th>\n",
       "      <th>Off-line.duration</th>\n",
       "    </tr>\n",
       "    <tr>\n",
       "      <th>Zone</th>\n",
       "      <th></th>\n",
       "    </tr>\n",
       "  </thead>\n",
       "  <tbody>\n",
       "    <tr>\n",
       "      <th>ZoneASTE</th>\n",
       "      <td>3.329637</td>\n",
       "    </tr>\n",
       "    <tr>\n",
       "      <th>ZoneBMAR</th>\n",
       "      <td>4.823250</td>\n",
       "    </tr>\n",
       "    <tr>\n",
       "      <th>ZoneCKAS</th>\n",
       "      <td>4.358763</td>\n",
       "    </tr>\n",
       "    <tr>\n",
       "      <th>ZoneDSHA</th>\n",
       "      <td>5.444037</td>\n",
       "    </tr>\n",
       "    <tr>\n",
       "      <th>ZoneEHAD</th>\n",
       "      <td>5.148858</td>\n",
       "    </tr>\n",
       "    <tr>\n",
       "      <th>ZoneFMTU</th>\n",
       "      <td>3.846761</td>\n",
       "    </tr>\n",
       "    <tr>\n",
       "      <th>ZoneGSHO</th>\n",
       "      <td>4.469759</td>\n",
       "    </tr>\n",
       "    <tr>\n",
       "      <th>ZoneHASK</th>\n",
       "      <td>3.305872</td>\n",
       "    </tr>\n",
       "  </tbody>\n",
       "</table>\n",
       "</div>"
      ],
      "text/plain": [
       "          Off-line.duration\n",
       "Zone                       \n",
       "ZoneASTE           3.329637\n",
       "ZoneBMAR           4.823250\n",
       "ZoneCKAS           4.358763\n",
       "ZoneDSHA           5.444037\n",
       "ZoneEHAD           5.148858\n",
       "ZoneFMTU           3.846761\n",
       "ZoneGSHO           4.469759\n",
       "ZoneHASK           3.305872"
      ]
     },
     "execution_count": 36,
     "metadata": {},
     "output_type": "execute_result"
    }
   ],
   "source": [
    "df.groupby('Zone').mean()"
   ]
  },
  {
   "cell_type": "code",
   "execution_count": 37,
   "metadata": {},
   "outputs": [
    {
     "data": {
      "text/plain": [
       "<matplotlib.axes._subplots.AxesSubplot at 0x7ccfeeae88>"
      ]
     },
     "execution_count": 37,
     "metadata": {},
     "output_type": "execute_result"
    },
    {
     "data": {
      "image/png": "[encoded data removed]",
      "text/plain": [
       "<Figure size 432x288 with 1 Axes>"
      ]
     },
     "metadata": {},
     "output_type": "display_data"
    }
   ],
   "source": [
    "df.groupby('Zone').mean().plot(kind='bar')"
   ]
  },
  {
   "cell_type": "code",
   "execution_count": 35,
   "metadata": {},
   "outputs": [
    {
     "data": {
      "text/plain": [
       "<matplotlib.axes._subplots.AxesSubplot at 0x7ca83b2908>"
      ]
     },
     "execution_count": 35,
     "metadata": {},
     "output_type": "execute_result"
    },
    {
     "data": {
      "image/png": "[encoded data removed]",
      "text/plain": [
       "<Figure size 648x432 with 1 Axes>"
      ]
     },
     "metadata": {},
     "output_type": "display_data"
    }
   ],
   "source": [
    "df['Notification Hour'].value_counts().head(10).plot(kind='bar', figsize=(9,6))"
   ]
  },
  {
   "cell_type": "code",
   "execution_count": 14,
   "metadata": {},
   "outputs": [
    {
     "data": {
      "text/plain": [
       "2018-09-14T00:00:00Z    106\n",
       "2019-01-31T00:00:00Z    104\n",
       "2019-07-09T00:00:00Z     99\n",
       "2019-12-24T00:00:00Z     94\n",
       "2019-05-26T00:00:00Z     88\n",
       "                       ... \n",
       "2019-02-27T10:03:00Z      1\n",
       "2018-11-08T08:09:00Z      1\n",
       "2019-02-11T18:13:00Z      1\n",
       "2019-04-27T00:00:00Z      1\n",
       "2019-02-23T19:49:00Z      1\n",
       "Name: RData, Length: 495, dtype: int64"
      ]
     },
     "execution_count": 14,
     "metadata": {},
     "output_type": "execute_result"
    }
   ],
   "source": [
    "df['RData'].value_counts()"
   ]
  },
  {
   "cell_type": "code",
   "execution_count": 15,
   "metadata": {},
   "outputs": [
    {
     "data": {
      "text/plain": [
       "<matplotlib.axes._subplots.AxesSubplot at 0x4505826688>"
      ]
     },
     "execution_count": 15,
     "metadata": {},
     "output_type": "execute_result"
    },
    {
     "data": {
      "image/png": "[encoded data removed]",
      "text/plain": [
       "<Figure size 648x432 with 1 Axes>"
      ]
     },
     "metadata": {},
     "output_type": "display_data"
    }
   ],
   "source": [
    "sns.set_style('darkgrid')\n",
    "df['Report Data'].value_counts().head(10).plot(kind='bar', figsize=(9,6))"
   ]
  },
  {
   "cell_type": "code",
   "execution_count": 16,
   "metadata": {},
   "outputs": [
    {
     "data": {
      "text/plain": [
       "<matplotlib.axes._subplots.AxesSubplot at 0x450368f6c8>"
      ]
     },
     "execution_count": 16,
     "metadata": {},
     "output_type": "execute_result"
    },
    {
     "data": {
      "image/png": "[encoded data removed]",
      "text/plain": [
       "<Figure size 432x288 with 1 Axes>"
      ]
     },
     "metadata": {},
     "output_type": "display_data"
    }
   ],
   "source": [
    "df[df['Zone']=='ZoneDSHA']['High.Level.Reason'].hist()"
   ]
  },
  {
   "cell_type": "code",
   "execution_count": 17,
   "metadata": {},
   "outputs": [
    {
     "data": {
      "text/plain": [
       "<matplotlib.axes._subplots.AxesSubplot at 0x45058db248>"
      ]
     },
     "execution_count": 17,
     "metadata": {},
     "output_type": "execute_result"
    },
    {
     "data": {
      "image/png": "[encoded data removed]",
      "text/plain": [
       "<Figure size 432x288 with 1 Axes>"
      ]
     },
     "metadata": {},
     "output_type": "display_data"
    }
   ],
   "source": [
    "df[df['Zone']=='ZoneEHAD']['High.Level.Reason'].hist()"
   ]
  },
  {
   "cell_type": "code",
   "execution_count": 18,
   "metadata": {},
   "outputs": [
    {
     "data": {
      "text/plain": [
       "<matplotlib.axes._subplots.AxesSubplot at 0x4505947548>"
      ]
     },
     "execution_count": 18,
     "metadata": {},
     "output_type": "execute_result"
    },
    {
     "data": {
      "image/png": "[encoded data removed]",
      "text/plain": [
       "<Figure size 432x288 with 1 Axes>"
      ]
     },
     "metadata": {},
     "output_type": "display_data"
    }
   ],
   "source": [
    "df[df['Zone']=='ZoneBMAR']['High.Level.Reason'].hist()"
   ]
  },
  {
   "cell_type": "code",
   "execution_count": 6,
   "metadata": {},
   "outputs": [
    {
     "data": {
      "text/plain": [
       "<matplotlib.axes._subplots.AxesSubplot at 0x9b76d0d948>"
      ]
     },
     "execution_count": 6,
     "metadata": {},
     "output_type": "execute_result"
    },
    {
     "data": {
      "image/png": "[encoded data removed]",
      "text/plain": [
       "<Figure size 432x288 with 1 Axes>"
      ]
     },
     "metadata": {},
     "output_type": "display_data"
    }
   ],
   "source": [
    "sns.set_style('darkgrid')\n",
    "df[df['Zone']=='ZoneASTE']['High.Level.Reason'].hist()"
   ]
  },
  {
   "cell_type": "code",
   "execution_count": 4,
   "metadata": {},
   "outputs": [
    {
     "data": {
      "text/html": [
       "<div>\n",
       "<style scoped>\n",
       "    .dataframe tbody tr th:only-of-type {\n",
       "        vertical-align: middle;\n",
       "    }\n",
       "\n",
       "    .dataframe tbody tr th {\n",
       "        vertical-align: top;\n",
       "    }\n",
       "\n",
       "    .dataframe thead th {\n",
       "        text-align: right;\n",
       "    }\n",
       "</style>\n",
       "<table border=\"1\" class=\"dataframe\">\n",
       "  <thead>\n",
       "    <tr style=\"text-align: right;\">\n",
       "      <th></th>\n",
       "      <th>Off-line.duration</th>\n",
       "    </tr>\n",
       "    <tr>\n",
       "      <th>High.Level.Reason</th>\n",
       "      <th></th>\n",
       "    </tr>\n",
       "  </thead>\n",
       "  <tbody>\n",
       "    <tr>\n",
       "      <th>CP_OFF</th>\n",
       "      <td>3.962294</td>\n",
       "    </tr>\n",
       "    <tr>\n",
       "      <th>Freezing</th>\n",
       "      <td>8.526784</td>\n",
       "    </tr>\n",
       "    <tr>\n",
       "      <th>Maintenance</th>\n",
       "      <td>1.698830</td>\n",
       "    </tr>\n",
       "    <tr>\n",
       "      <th>Most.p(CP_OFF)</th>\n",
       "      <td>4.205900</td>\n",
       "    </tr>\n",
       "    <tr>\n",
       "      <th>Reparations</th>\n",
       "      <td>10.545034</td>\n",
       "    </tr>\n",
       "  </tbody>\n",
       "</table>\n",
       "</div>"
      ],
      "text/plain": [
       "                   Off-line.duration\n",
       "High.Level.Reason                   \n",
       "CP_OFF                      3.962294\n",
       "Freezing                    8.526784\n",
       "Maintenance                 1.698830\n",
       "Most.p(CP_OFF)              4.205900\n",
       "Reparations                10.545034"
      ]
     },
     "execution_count": 4,
     "metadata": {},
     "output_type": "execute_result"
    }
   ],
   "source": [
    "df.groupby('High.Level.Reason').mean()"
   ]
  },
  {
   "cell_type": "code",
   "execution_count": 9,
   "metadata": {},
   "outputs": [
    {
     "data": {
      "text/plain": [
       "<matplotlib.axes._subplots.AxesSubplot at 0x9b76f63b88>"
      ]
     },
     "execution_count": 9,
     "metadata": {},
     "output_type": "execute_result"
    },
    {
     "data": {
      "image/png": "[encoded data removed]",
      "text/plain": [
       "<Figure size 648x432 with 1 Axes>"
      ]
     },
     "metadata": {},
     "output_type": "display_data"
    }
   ],
   "source": [
    "df[df['High.Level.Reason']=='Reparations']['Zone'].hist(figsize=(9,6))"
   ]
  },
  {
   "cell_type": "code",
   "execution_count": 10,
   "metadata": {},
   "outputs": [
    {
     "data": {
      "text/html": [
       "<div>\n",
       "<style scoped>\n",
       "    .dataframe tbody tr th:only-of-type {\n",
       "        vertical-align: middle;\n",
       "    }\n",
       "\n",
       "    .dataframe tbody tr th {\n",
       "        vertical-align: top;\n",
       "    }\n",
       "\n",
       "    .dataframe thead th {\n",
       "        text-align: right;\n",
       "    }\n",
       "</style>\n",
       "<table border=\"1\" class=\"dataframe\">\n",
       "  <thead>\n",
       "    <tr style=\"text-align: right;\">\n",
       "      <th></th>\n",
       "      <th>Off-line.duration</th>\n",
       "    </tr>\n",
       "    <tr>\n",
       "      <th>Zone</th>\n",
       "      <th></th>\n",
       "    </tr>\n",
       "  </thead>\n",
       "  <tbody>\n",
       "    <tr>\n",
       "      <th>ZoneASTE</th>\n",
       "      <td>2.697619</td>\n",
       "    </tr>\n",
       "    <tr>\n",
       "      <th>ZoneBMAR</th>\n",
       "      <td>3.972912</td>\n",
       "    </tr>\n",
       "    <tr>\n",
       "      <th>ZoneCKAS</th>\n",
       "      <td>4.163274</td>\n",
       "    </tr>\n",
       "    <tr>\n",
       "      <th>ZoneDSHA</th>\n",
       "      <td>4.634876</td>\n",
       "    </tr>\n",
       "    <tr>\n",
       "      <th>ZoneEHAD</th>\n",
       "      <td>3.805884</td>\n",
       "    </tr>\n",
       "    <tr>\n",
       "      <th>ZoneFMTU</th>\n",
       "      <td>3.958138</td>\n",
       "    </tr>\n",
       "    <tr>\n",
       "      <th>ZoneGSHO</th>\n",
       "      <td>5.403922</td>\n",
       "    </tr>\n",
       "    <tr>\n",
       "      <th>ZoneHASK</th>\n",
       "      <td>3.199515</td>\n",
       "    </tr>\n",
       "  </tbody>\n",
       "</table>\n",
       "</div>"
      ],
      "text/plain": [
       "          Off-line.duration\n",
       "Zone                       \n",
       "ZoneASTE           2.697619\n",
       "ZoneBMAR           3.972912\n",
       "ZoneCKAS           4.163274\n",
       "ZoneDSHA           4.634876\n",
       "ZoneEHAD           3.805884\n",
       "ZoneFMTU           3.958138\n",
       "ZoneGSHO           5.403922\n",
       "ZoneHASK           3.199515"
      ]
     },
     "execution_count": 10,
     "metadata": {},
     "output_type": "execute_result"
    }
   ],
   "source": [
    "df[df['High.Level.Reason']=='CP_OFF'].groupby('Zone').mean()"
   ]
  },
  {
   "cell_type": "code",
   "execution_count": 12,
   "metadata": {},
   "outputs": [
    {
     "data": {
      "text/plain": [
       "08:00:00Z    196\n",
       "10:29:00Z     91\n",
       "10:39:00Z     89\n",
       "10:20:00Z     88\n",
       "10:25:00Z     87\n",
       "            ... \n",
       "23:30:00Z      1\n",
       "19:21:00Z      1\n",
       "02:56:00Z      1\n",
       "00:23:00Z      1\n",
       "01:14:00Z      1\n",
       "Name: Notification Hour, Length: 954, dtype: int64"
      ]
     },
     "execution_count": 12,
     "metadata": {},
     "output_type": "execute_result"
    }
   ],
   "source": [
    "df['Notification Hour'].value_counts()"
   ]
  }
 ],
 "metadata": {
  "kernelspec": {
   "display_name": "Python 3",
   "language": "python",
   "name": "python3"
  },
  "language_info": {
   "codemirror_mode": {
    "name": "ipython",
    "version": 3
   },
   "file_extension": ".py",
   "mimetype": "text/x-python",
   "name": "python",
   "nbconvert_exporter": "python",
   "pygments_lexer": "ipython3",
   "version": "3.7.4"
  }
 },
 "nbformat": 4,
 "nbformat_minor": 4
}
