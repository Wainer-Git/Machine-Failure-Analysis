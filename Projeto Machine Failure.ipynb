{
 "cells": [
  {
   "cell_type": "markdown",
   "metadata": {},
   "source": [
    "# Projeto - Machine Failure\n",
    "No presente projeto será realizado a análise exploratória dos dados recolhidos de um sistema de monitoramento de falhas em maquinas. Aplicando conceitos de ciencia de dados, se chegará a algumas conclusões a respeito destas falhas, auxiliando na tomada de decisão dos gestores (fictícios) da área.<br>\n",
    "A base de dados possui as seguintes colunas: <br>\n",
    "**Report.date**: data do reporte; <br>\n",
    "**Mlocation**: localização da máquina;<br>\n",
    "**Zone**: zona onde a máquina está localizada;<br>\n",
    "**Start.date.time**: data e horário da falha da máquina;<br>\n",
    "**End.date.time**: data e horária que a máquina voltou a funcionar;<br>\n",
    "**Notification.sent**: data e horário que o sistema de monitoramento notificou a falha;<br>\n",
    "**Off-line.duration**: quando tempo a maquina ficou off-line;<br>\n",
    "**High.Level.Reason**: razão da falha;<br><br><br>\n",
    "Agora será importado as bibliotecas e a base de dados utilizada. \n"
   ]
  },
  {
   "cell_type": "code",
   "execution_count": 2,
   "metadata": {},
   "outputs": [],
   "source": [
    "import pandas as pd \n",
    "import seaborn as sns \n",
    "import numpy as np \n",
    "import matplotlib.pyplot as plt "
   ]
  },
  {
   "cell_type": "code",
   "execution_count": 3,
   "metadata": {},
   "outputs": [
    {
     "data": {
      "text/html": [
       "<div>\n",
       "<style scoped>\n",
       "    .dataframe tbody tr th:only-of-type {\n",
       "        vertical-align: middle;\n",
       "    }\n",
       "\n",
       "    .dataframe tbody tr th {\n",
       "        vertical-align: top;\n",
       "    }\n",
       "\n",
       "    .dataframe thead th {\n",
       "        text-align: right;\n",
       "    }\n",
       "</style>\n",
       "<table border=\"1\" class=\"dataframe\">\n",
       "  <thead>\n",
       "    <tr style=\"text-align: right;\">\n",
       "      <th></th>\n",
       "      <th>Report.date</th>\n",
       "      <th>Mlocation</th>\n",
       "      <th>Zone</th>\n",
       "      <th>Start.date.time</th>\n",
       "      <th>End.date.time</th>\n",
       "      <th>Notification.sent</th>\n",
       "      <th>Off-line.duration</th>\n",
       "      <th>High.Level.Reason</th>\n",
       "    </tr>\n",
       "  </thead>\n",
       "  <tbody>\n",
       "    <tr>\n",
       "      <th>0</th>\n",
       "      <td>2018-09-01T00:00:00Z</td>\n",
       "      <td>AM0035</td>\n",
       "      <td>ZoneHASK</td>\n",
       "      <td>2018-09-01T07:49:00Z</td>\n",
       "      <td>2018-09-01T09:40:00Z</td>\n",
       "      <td>2018-09-01T08:10:00Z</td>\n",
       "      <td>1.850000</td>\n",
       "      <td>Most.p(CP_OFF)</td>\n",
       "    </tr>\n",
       "    <tr>\n",
       "      <th>1</th>\n",
       "      <td>2018-09-01T00:00:00Z</td>\n",
       "      <td>NM0208</td>\n",
       "      <td>ZoneBMAR</td>\n",
       "      <td>2018-09-01T11:43:00Z</td>\n",
       "      <td>2018-09-01T12:08:00Z</td>\n",
       "      <td>2018-09-01T12:03:00Z</td>\n",
       "      <td>0.416667</td>\n",
       "      <td>Most.p(CP_OFF)</td>\n",
       "    </tr>\n",
       "    <tr>\n",
       "      <th>2</th>\n",
       "      <td>2018-09-01T00:00:00Z</td>\n",
       "      <td>NM0217</td>\n",
       "      <td>ZoneBMAR</td>\n",
       "      <td>2018-09-01T11:43:00Z</td>\n",
       "      <td>2018-09-01T12:08:00Z</td>\n",
       "      <td>2018-09-01T12:03:00Z</td>\n",
       "      <td>0.416667</td>\n",
       "      <td>Most.p(CP_OFF)</td>\n",
       "    </tr>\n",
       "    <tr>\n",
       "      <th>3</th>\n",
       "      <td>2018-09-01T00:00:00Z</td>\n",
       "      <td>AM0015</td>\n",
       "      <td>ZoneBMAR</td>\n",
       "      <td>2018-09-01T11:20:00Z</td>\n",
       "      <td>2018-09-01T14:43:00Z</td>\n",
       "      <td>2018-09-01T11:40:00Z</td>\n",
       "      <td>3.383333</td>\n",
       "      <td>Most.p(CP_OFF)</td>\n",
       "    </tr>\n",
       "    <tr>\n",
       "      <th>4</th>\n",
       "      <td>2018-09-01T00:00:00Z</td>\n",
       "      <td>GM0066</td>\n",
       "      <td>ZoneBMAR</td>\n",
       "      <td>2018-09-01T11:20:00Z</td>\n",
       "      <td>2018-09-01T14:43:00Z</td>\n",
       "      <td>2018-09-01T11:40:00Z</td>\n",
       "      <td>3.383333</td>\n",
       "      <td>Most.p(CP_OFF)</td>\n",
       "    </tr>\n",
       "  </tbody>\n",
       "</table>\n",
       "</div>"
      ],
      "text/plain": [
       "            Report.date Mlocation      Zone       Start.date.time  \\\n",
       "0  2018-09-01T00:00:00Z    AM0035  ZoneHASK  2018-09-01T07:49:00Z   \n",
       "1  2018-09-01T00:00:00Z    NM0208  ZoneBMAR  2018-09-01T11:43:00Z   \n",
       "2  2018-09-01T00:00:00Z    NM0217  ZoneBMAR  2018-09-01T11:43:00Z   \n",
       "3  2018-09-01T00:00:00Z    AM0015  ZoneBMAR  2018-09-01T11:20:00Z   \n",
       "4  2018-09-01T00:00:00Z    GM0066  ZoneBMAR  2018-09-01T11:20:00Z   \n",
       "\n",
       "          End.date.time     Notification.sent  Off-line.duration  \\\n",
       "0  2018-09-01T09:40:00Z  2018-09-01T08:10:00Z           1.850000   \n",
       "1  2018-09-01T12:08:00Z  2018-09-01T12:03:00Z           0.416667   \n",
       "2  2018-09-01T12:08:00Z  2018-09-01T12:03:00Z           0.416667   \n",
       "3  2018-09-01T14:43:00Z  2018-09-01T11:40:00Z           3.383333   \n",
       "4  2018-09-01T14:43:00Z  2018-09-01T11:40:00Z           3.383333   \n",
       "\n",
       "  High.Level.Reason  \n",
       "0    Most.p(CP_OFF)  \n",
       "1    Most.p(CP_OFF)  \n",
       "2    Most.p(CP_OFF)  \n",
       "3    Most.p(CP_OFF)  \n",
       "4    Most.p(CP_OFF)  "
      ]
     },
     "execution_count": 3,
     "metadata": {},
     "output_type": "execute_result"
    }
   ],
   "source": [
    "df = pd.read_csv('MFAR.csv')\n",
    "df.head()"
   ]
  },
  {
   "cell_type": "markdown",
   "metadata": {},
   "source": [
    "Vamos utilizar o método **\".info()\"** para verificar o tamanho do DataFrame, e para verificar se o mesmo possui algum dado faltante, vamos utilizar um mapa de calor da biblioteca **seaborn**."
   ]
  },
  {
   "cell_type": "code",
   "execution_count": 3,
   "metadata": {},
   "outputs": [
    {
     "name": "stdout",
     "output_type": "stream",
     "text": [
      "<class 'pandas.core.frame.DataFrame'>\n",
      "RangeIndex: 15626 entries, 0 to 15625\n",
      "Data columns (total 8 columns):\n",
      " #   Column             Non-Null Count  Dtype  \n",
      "---  ------             --------------  -----  \n",
      " 0   Report.date        15626 non-null  object \n",
      " 1   Mlocation          15626 non-null  object \n",
      " 2   Zone               15626 non-null  object \n",
      " 3   Start.date.time    15626 non-null  object \n",
      " 4   End.date.time      15626 non-null  object \n",
      " 5   Notification.sent  15626 non-null  object \n",
      " 6   Off-line.duration  15626 non-null  float64\n",
      " 7   High.Level.Reason  15626 non-null  object \n",
      "dtypes: float64(1), object(7)\n",
      "memory usage: 976.8+ KB\n"
     ]
    }
   ],
   "source": [
    "df.info()"
   ]
  },
  {
   "cell_type": "code",
   "execution_count": 4,
   "metadata": {},
   "outputs": [
    {
     "data": {
      "text/plain": [
       "<matplotlib.axes._subplots.AxesSubplot at 0xfdb141e7c8>"
      ]
     },
     "execution_count": 4,
     "metadata": {},
     "output_type": "execute_result"
    },
    {
     "data": {
      "image/png": "[encoded data removed]",
      "text/plain": [
       "<Figure size 432x288 with 2 Axes>"
      ]
     },
     "metadata": {
      "needs_background": "light"
     },
     "output_type": "display_data"
    }
   ],
   "source": [
    "sns.heatmap(df.isnull())"
   ]
  },
  {
   "cell_type": "markdown",
   "metadata": {},
   "source": [
    "# Tratando os dados das colunas relacionadas ao tempo.\n",
    "Nas colunas relacionadas ao tempo, temos dados de data e hora, que serião interessantes de serem trabalhados separadamente. Para separar a data do horário, iremos aplicar um função **lambda** e assim criar novas colunas com os dados **\"splitados\"**;<br><br> Antes vamos renomear as colunas para facilitar este processo. "
   ]
  },
  {
   "cell_type": "code",
   "execution_count": 4,
   "metadata": {},
   "outputs": [
    {
     "data": {
      "text/html": [
       "<div>\n",
       "<style scoped>\n",
       "    .dataframe tbody tr th:only-of-type {\n",
       "        vertical-align: middle;\n",
       "    }\n",
       "\n",
       "    .dataframe tbody tr th {\n",
       "        vertical-align: top;\n",
       "    }\n",
       "\n",
       "    .dataframe thead th {\n",
       "        text-align: right;\n",
       "    }\n",
       "</style>\n",
       "<table border=\"1\" class=\"dataframe\">\n",
       "  <thead>\n",
       "    <tr style=\"text-align: right;\">\n",
       "      <th></th>\n",
       "      <th>Report.date</th>\n",
       "      <th>Mlocation</th>\n",
       "      <th>Zone</th>\n",
       "      <th>Start.date.time</th>\n",
       "      <th>End.date.time</th>\n",
       "      <th>Notification.sent</th>\n",
       "      <th>Off-line.duration</th>\n",
       "      <th>High.Level.Reason</th>\n",
       "    </tr>\n",
       "  </thead>\n",
       "  <tbody>\n",
       "    <tr>\n",
       "      <th>0</th>\n",
       "      <td>2018-09-01T00:00:00Z</td>\n",
       "      <td>AM0035</td>\n",
       "      <td>ZoneHASK</td>\n",
       "      <td>2018-09-01T07:49:00Z</td>\n",
       "      <td>2018-09-01T09:40:00Z</td>\n",
       "      <td>2018-09-01T08:10:00Z</td>\n",
       "      <td>1.850000</td>\n",
       "      <td>Most.p(CP_OFF)</td>\n",
       "    </tr>\n",
       "    <tr>\n",
       "      <th>1</th>\n",
       "      <td>2018-09-01T00:00:00Z</td>\n",
       "      <td>NM0208</td>\n",
       "      <td>ZoneBMAR</td>\n",
       "      <td>2018-09-01T11:43:00Z</td>\n",
       "      <td>2018-09-01T12:08:00Z</td>\n",
       "      <td>2018-09-01T12:03:00Z</td>\n",
       "      <td>0.416667</td>\n",
       "      <td>Most.p(CP_OFF)</td>\n",
       "    </tr>\n",
       "  </tbody>\n",
       "</table>\n",
       "</div>"
      ],
      "text/plain": [
       "            Report.date Mlocation      Zone       Start.date.time  \\\n",
       "0  2018-09-01T00:00:00Z    AM0035  ZoneHASK  2018-09-01T07:49:00Z   \n",
       "1  2018-09-01T00:00:00Z    NM0208  ZoneBMAR  2018-09-01T11:43:00Z   \n",
       "\n",
       "          End.date.time     Notification.sent  Off-line.duration  \\\n",
       "0  2018-09-01T09:40:00Z  2018-09-01T08:10:00Z           1.850000   \n",
       "1  2018-09-01T12:08:00Z  2018-09-01T12:03:00Z           0.416667   \n",
       "\n",
       "  High.Level.Reason  \n",
       "0    Most.p(CP_OFF)  \n",
       "1    Most.p(CP_OFF)  "
      ]
     },
     "execution_count": 4,
     "metadata": {},
     "output_type": "execute_result"
    }
   ],
   "source": [
    "df.head(2)"
   ]
  },
  {
   "cell_type": "code",
   "execution_count": 5,
   "metadata": {},
   "outputs": [],
   "source": [
    "df.rename(columns={'Report.date':'ReportDate', 'Start.date.time':'StartDT','End.date.time':'NotSent',\"Notification.sent\":'Nsent' }, inplace=True)"
   ]
  },
  {
   "cell_type": "code",
   "execution_count": 13,
   "metadata": {},
   "outputs": [
    {
     "data": {
      "text/plain": [
       "Index(['ReportDate', 'Mlocation', 'Zone', 'StartDT', 'NotSent', 'Nsent',\n",
       "       'Off-line.duration', 'High.Level.Reason'],\n",
       "      dtype='object')"
      ]
     },
     "execution_count": 13,
     "metadata": {},
     "output_type": "execute_result"
    }
   ],
   "source": [
    "df.columns"
   ]
  },
  {
   "cell_type": "markdown",
   "metadata": {},
   "source": [
    "Agora vamos aplicar as funções e assim criar novas colunas para o DataFrame."
   ]
  },
  {
   "cell_type": "code",
   "execution_count": 28,
   "metadata": {},
   "outputs": [],
   "source": [
    "df['Data de Reporte'] = df['ReportDate'].apply(lambda ReportDate: ReportDate.split('T')[0])\n",
    "df['Horário de Reporte'] = df['ReportDate'].apply(lambda ReportDate: ReportDate.split('T')[1])\n",
    "df['Start Hour'] = df['StartDT'].apply(lambda StartDT: StartDT.split('T')[1])\n",
    "df['End Hour'] = df['NotSent'].apply(lambda NotSent: NotSent.split('T')[1])\n",
    "df['Notification Hour '] = df['Nsent'].apply(lambda Nsent: Nsent.split('T')[1])"
   ]
  },
  {
   "cell_type": "code",
   "execution_count": 15,
   "metadata": {},
   "outputs": [
    {
     "data": {
      "text/html": [
       "<div>\n",
       "<style scoped>\n",
       "    .dataframe tbody tr th:only-of-type {\n",
       "        vertical-align: middle;\n",
       "    }\n",
       "\n",
       "    .dataframe tbody tr th {\n",
       "        vertical-align: top;\n",
       "    }\n",
       "\n",
       "    .dataframe thead th {\n",
       "        text-align: right;\n",
       "    }\n",
       "</style>\n",
       "<table border=\"1\" class=\"dataframe\">\n",
       "  <thead>\n",
       "    <tr style=\"text-align: right;\">\n",
       "      <th></th>\n",
       "      <th>ReportDate</th>\n",
       "      <th>Mlocation</th>\n",
       "      <th>Zone</th>\n",
       "      <th>StartDT</th>\n",
       "      <th>NotSent</th>\n",
       "      <th>Nsent</th>\n",
       "      <th>Off-line.duration</th>\n",
       "      <th>High.Level.Reason</th>\n",
       "      <th>Data de Reporte</th>\n",
       "      <th>Horário de Reporte</th>\n",
       "      <th>Start Hour</th>\n",
       "      <th>End Hour</th>\n",
       "      <th>Notification Hour</th>\n",
       "    </tr>\n",
       "  </thead>\n",
       "  <tbody>\n",
       "    <tr>\n",
       "      <th>0</th>\n",
       "      <td>2018-09-01T00:00:00Z</td>\n",
       "      <td>AM0035</td>\n",
       "      <td>ZoneHASK</td>\n",
       "      <td>2018-09-01T07:49:00Z</td>\n",
       "      <td>2018-09-01T09:40:00Z</td>\n",
       "      <td>2018-09-01T08:10:00Z</td>\n",
       "      <td>1.850000</td>\n",
       "      <td>Most.p(CP_OFF)</td>\n",
       "      <td>2018-09-01</td>\n",
       "      <td>00:00:00Z</td>\n",
       "      <td>07:49:00Z</td>\n",
       "      <td>09:40:00Z</td>\n",
       "      <td>08:10:00Z</td>\n",
       "    </tr>\n",
       "    <tr>\n",
       "      <th>1</th>\n",
       "      <td>2018-09-01T00:00:00Z</td>\n",
       "      <td>NM0208</td>\n",
       "      <td>ZoneBMAR</td>\n",
       "      <td>2018-09-01T11:43:00Z</td>\n",
       "      <td>2018-09-01T12:08:00Z</td>\n",
       "      <td>2018-09-01T12:03:00Z</td>\n",
       "      <td>0.416667</td>\n",
       "      <td>Most.p(CP_OFF)</td>\n",
       "      <td>2018-09-01</td>\n",
       "      <td>00:00:00Z</td>\n",
       "      <td>11:43:00Z</td>\n",
       "      <td>12:08:00Z</td>\n",
       "      <td>12:03:00Z</td>\n",
       "    </tr>\n",
       "    <tr>\n",
       "      <th>2</th>\n",
       "      <td>2018-09-01T00:00:00Z</td>\n",
       "      <td>NM0217</td>\n",
       "      <td>ZoneBMAR</td>\n",
       "      <td>2018-09-01T11:43:00Z</td>\n",
       "      <td>2018-09-01T12:08:00Z</td>\n",
       "      <td>2018-09-01T12:03:00Z</td>\n",
       "      <td>0.416667</td>\n",
       "      <td>Most.p(CP_OFF)</td>\n",
       "      <td>2018-09-01</td>\n",
       "      <td>00:00:00Z</td>\n",
       "      <td>11:43:00Z</td>\n",
       "      <td>12:08:00Z</td>\n",
       "      <td>12:03:00Z</td>\n",
       "    </tr>\n",
       "    <tr>\n",
       "      <th>3</th>\n",
       "      <td>2018-09-01T00:00:00Z</td>\n",
       "      <td>AM0015</td>\n",
       "      <td>ZoneBMAR</td>\n",
       "      <td>2018-09-01T11:20:00Z</td>\n",
       "      <td>2018-09-01T14:43:00Z</td>\n",
       "      <td>2018-09-01T11:40:00Z</td>\n",
       "      <td>3.383333</td>\n",
       "      <td>Most.p(CP_OFF)</td>\n",
       "      <td>2018-09-01</td>\n",
       "      <td>00:00:00Z</td>\n",
       "      <td>11:20:00Z</td>\n",
       "      <td>14:43:00Z</td>\n",
       "      <td>11:40:00Z</td>\n",
       "    </tr>\n",
       "    <tr>\n",
       "      <th>4</th>\n",
       "      <td>2018-09-01T00:00:00Z</td>\n",
       "      <td>GM0066</td>\n",
       "      <td>ZoneBMAR</td>\n",
       "      <td>2018-09-01T11:20:00Z</td>\n",
       "      <td>2018-09-01T14:43:00Z</td>\n",
       "      <td>2018-09-01T11:40:00Z</td>\n",
       "      <td>3.383333</td>\n",
       "      <td>Most.p(CP_OFF)</td>\n",
       "      <td>2018-09-01</td>\n",
       "      <td>00:00:00Z</td>\n",
       "      <td>11:20:00Z</td>\n",
       "      <td>14:43:00Z</td>\n",
       "      <td>11:40:00Z</td>\n",
       "    </tr>\n",
       "  </tbody>\n",
       "</table>\n",
       "</div>"
      ],
      "text/plain": [
       "             ReportDate Mlocation      Zone               StartDT  \\\n",
       "0  2018-09-01T00:00:00Z    AM0035  ZoneHASK  2018-09-01T07:49:00Z   \n",
       "1  2018-09-01T00:00:00Z    NM0208  ZoneBMAR  2018-09-01T11:43:00Z   \n",
       "2  2018-09-01T00:00:00Z    NM0217  ZoneBMAR  2018-09-01T11:43:00Z   \n",
       "3  2018-09-01T00:00:00Z    AM0015  ZoneBMAR  2018-09-01T11:20:00Z   \n",
       "4  2018-09-01T00:00:00Z    GM0066  ZoneBMAR  2018-09-01T11:20:00Z   \n",
       "\n",
       "                NotSent                 Nsent  Off-line.duration  \\\n",
       "0  2018-09-01T09:40:00Z  2018-09-01T08:10:00Z           1.850000   \n",
       "1  2018-09-01T12:08:00Z  2018-09-01T12:03:00Z           0.416667   \n",
       "2  2018-09-01T12:08:00Z  2018-09-01T12:03:00Z           0.416667   \n",
       "3  2018-09-01T14:43:00Z  2018-09-01T11:40:00Z           3.383333   \n",
       "4  2018-09-01T14:43:00Z  2018-09-01T11:40:00Z           3.383333   \n",
       "\n",
       "  High.Level.Reason Data de Reporte Horário de Reporte Start Hour   End Hour  \\\n",
       "0    Most.p(CP_OFF)      2018-09-01          00:00:00Z  07:49:00Z  09:40:00Z   \n",
       "1    Most.p(CP_OFF)      2018-09-01          00:00:00Z  11:43:00Z  12:08:00Z   \n",
       "2    Most.p(CP_OFF)      2018-09-01          00:00:00Z  11:43:00Z  12:08:00Z   \n",
       "3    Most.p(CP_OFF)      2018-09-01          00:00:00Z  11:20:00Z  14:43:00Z   \n",
       "4    Most.p(CP_OFF)      2018-09-01          00:00:00Z  11:20:00Z  14:43:00Z   \n",
       "\n",
       "  Notification Hour   \n",
       "0          08:10:00Z  \n",
       "1          12:03:00Z  \n",
       "2          12:03:00Z  \n",
       "3          11:40:00Z  \n",
       "4          11:40:00Z  "
      ]
     },
     "execution_count": 15,
     "metadata": {},
     "output_type": "execute_result"
    }
   ],
   "source": [
    "df.head()"
   ]
  },
  {
   "cell_type": "code",
   "execution_count": 17,
   "metadata": {},
   "outputs": [
    {
     "data": {
      "text/plain": [
       "(15626, 13)"
      ]
     },
     "execution_count": 17,
     "metadata": {},
     "output_type": "execute_result"
    }
   ],
   "source": [
    "df.shape"
   ]
  },
  {
   "cell_type": "markdown",
   "metadata": {},
   "source": [
    "Agora ficará muito mais facil trabalhar os dados relativos ao tempo. "
   ]
  },
  {
   "cell_type": "markdown",
   "metadata": {},
   "source": [
    "Vamos analisar quais são as datas de maior número de reportes (para facilitar a visualizaação graficamente, vamos pegar apenas as 10 primeiras datas . "
   ]
  },
  {
   "cell_type": "code",
   "execution_count": 8,
   "metadata": {},
   "outputs": [
    {
     "data": {
      "text/plain": [
       "<matplotlib.axes._subplots.AxesSubplot at 0xbd870ec6c8>"
      ]
     },
     "execution_count": 8,
     "metadata": {},
     "output_type": "execute_result"
    },
    {
     "data": {
      "image/png": "[encoded data removed]",
      "text/plain": [
       "<Figure size 648x432 with 1 Axes>"
      ]
     },
     "metadata": {},
     "output_type": "display_data"
    }
   ],
   "source": [
    "sns.set_style('darkgrid')\n",
    "df['Data de Reporte'].value_counts().head(10).plot(kind='bar', figsize=(9,6))"
   ]
  },
  {
   "cell_type": "markdown",
   "metadata": {},
   "source": [
    "Agora vamos avaliar o horário em que a maquina falhou."
   ]
  },
  {
   "cell_type": "code",
   "execution_count": 13,
   "metadata": {},
   "outputs": [
    {
     "data": {
      "text/plain": [
       "10:05:00Z    185\n",
       "10:15:00Z    172\n",
       "10:10:00Z    157\n",
       "10:00:00Z    138\n",
       "11:30:00Z    118\n",
       "10:30:00Z    107\n",
       "11:00:00Z    106\n",
       "11:45:00Z    106\n",
       "12:50:00Z     93\n",
       "11:15:00Z     90\n",
       "16:50:00Z     85\n",
       "12:45:00Z     83\n",
       "10:55:00Z     82\n",
       "09:40:00Z     82\n",
       "15:00:00Z     80\n",
       "18:35:00Z     80\n",
       "12:30:00Z     79\n",
       "11:40:00Z     79\n",
       "10:45:00Z     79\n",
       "10:50:00Z     76\n",
       "Name: Start Hour, dtype: int64"
      ]
     },
     "execution_count": 13,
     "metadata": {},
     "output_type": "execute_result"
    }
   ],
   "source": [
    "df['Start Hour'].value_counts().head(20)"
   ]
  },
  {
   "cell_type": "code",
   "execution_count": 14,
   "metadata": {},
   "outputs": [
    {
     "data": {
      "text/plain": [
       "<matplotlib.axes._subplots.AxesSubplot at 0xbd8187e608>"
      ]
     },
     "execution_count": 14,
     "metadata": {},
     "output_type": "execute_result"
    },
    {
     "data": {
      "image/png": "[encoded data removed]",
      "text/plain": [
       "<Figure size 648x432 with 1 Axes>"
      ]
     },
     "metadata": {},
     "output_type": "display_data"
    }
   ],
   "source": [
    "df['Start Hour'].value_counts().head(20).plot(kind='bar', figsize=(9,6))"
   ]
  },
  {
   "cell_type": "markdown",
   "metadata": {},
   "source": [
    "Note que o período das 10 horas é o momeneto onde há mais falhas nas máquinas. "
   ]
  },
  {
   "cell_type": "markdown",
   "metadata": {},
   "source": [
    "Agora vamos analisar as zonas onde as maquinas estão localizadas, vamos ultilizar o método **\"groupby\"**."
   ]
  },
  {
   "cell_type": "code",
   "execution_count": 15,
   "metadata": {},
   "outputs": [
    {
     "data": {
      "text/html": [
       "<div>\n",
       "<style scoped>\n",
       "    .dataframe tbody tr th:only-of-type {\n",
       "        vertical-align: middle;\n",
       "    }\n",
       "\n",
       "    .dataframe tbody tr th {\n",
       "        vertical-align: top;\n",
       "    }\n",
       "\n",
       "    .dataframe thead th {\n",
       "        text-align: right;\n",
       "    }\n",
       "</style>\n",
       "<table border=\"1\" class=\"dataframe\">\n",
       "  <thead>\n",
       "    <tr style=\"text-align: right;\">\n",
       "      <th></th>\n",
       "      <th>Off-line.duration</th>\n",
       "    </tr>\n",
       "    <tr>\n",
       "      <th>Zone</th>\n",
       "      <th></th>\n",
       "    </tr>\n",
       "  </thead>\n",
       "  <tbody>\n",
       "    <tr>\n",
       "      <th>ZoneASTE</th>\n",
       "      <td>3.329637</td>\n",
       "    </tr>\n",
       "    <tr>\n",
       "      <th>ZoneBMAR</th>\n",
       "      <td>4.823250</td>\n",
       "    </tr>\n",
       "    <tr>\n",
       "      <th>ZoneCKAS</th>\n",
       "      <td>4.358763</td>\n",
       "    </tr>\n",
       "    <tr>\n",
       "      <th>ZoneDSHA</th>\n",
       "      <td>5.444037</td>\n",
       "    </tr>\n",
       "    <tr>\n",
       "      <th>ZoneEHAD</th>\n",
       "      <td>5.148858</td>\n",
       "    </tr>\n",
       "    <tr>\n",
       "      <th>ZoneFMTU</th>\n",
       "      <td>3.846761</td>\n",
       "    </tr>\n",
       "    <tr>\n",
       "      <th>ZoneGSHO</th>\n",
       "      <td>4.469759</td>\n",
       "    </tr>\n",
       "    <tr>\n",
       "      <th>ZoneHASK</th>\n",
       "      <td>3.305872</td>\n",
       "    </tr>\n",
       "  </tbody>\n",
       "</table>\n",
       "</div>"
      ],
      "text/plain": [
       "          Off-line.duration\n",
       "Zone                       \n",
       "ZoneASTE           3.329637\n",
       "ZoneBMAR           4.823250\n",
       "ZoneCKAS           4.358763\n",
       "ZoneDSHA           5.444037\n",
       "ZoneEHAD           5.148858\n",
       "ZoneFMTU           3.846761\n",
       "ZoneGSHO           4.469759\n",
       "ZoneHASK           3.305872"
      ]
     },
     "execution_count": 15,
     "metadata": {},
     "output_type": "execute_result"
    }
   ],
   "source": [
    "df.groupby('Zone').mean()"
   ]
  },
  {
   "cell_type": "markdown",
   "metadata": {},
   "source": [
    "As zonas 'ZoneCKAS' e 'ZoneEHAD' são as zonas com maior média de tempo de máquinas paradas, vamos analisar as razões. "
   ]
  },
  {
   "cell_type": "code",
   "execution_count": 17,
   "metadata": {},
   "outputs": [
    {
     "data": {
      "text/plain": [
       "<matplotlib.axes._subplots.AxesSubplot at 0xbd809849c8>"
      ]
     },
     "execution_count": 17,
     "metadata": {},
     "output_type": "execute_result"
    },
    {
     "data": {
      "image/png": "[encoded data removed]",
      "text/plain": [
       "<Figure size 648x432 with 1 Axes>"
      ]
     },
     "metadata": {},
     "output_type": "display_data"
    }
   ],
   "source": [
    "df[df['Zone']=='ZoneDSHA']['High.Level.Reason'].hist(figsize=(9,6))"
   ]
  },
  {
   "cell_type": "markdown",
   "metadata": {},
   "source": [
    "Na 'ZoneDSHA' as maiores razões de parada são **'CP_OFF'** e **'Most.p(CP_OFF)'**. "
   ]
  },
  {
   "cell_type": "code",
   "execution_count": 18,
   "metadata": {},
   "outputs": [
    {
     "data": {
      "text/plain": [
       "<matplotlib.axes._subplots.AxesSubplot at 0xbd85199bc8>"
      ]
     },
     "execution_count": 18,
     "metadata": {},
     "output_type": "execute_result"
    },
    {
     "data": {
      "image/png": "[encoded data removed]",
      "text/plain": [
       "<Figure size 648x432 with 1 Axes>"
      ]
     },
     "metadata": {},
     "output_type": "display_data"
    }
   ],
   "source": [
    "df[df['Zone']=='ZoneEHAD']['High.Level.Reason'].hist(figsize=(9,6))"
   ]
  },
  {
   "cell_type": "markdown",
   "metadata": {},
   "source": [
    "Na \"ZoneEHAD\" ocorre o oposto, os maiores motivos de parada são **\"Most.p(CP_OFF)\"** e **\"CP_OFF\"**."
   ]
  },
  {
   "cell_type": "markdown",
   "metadata": {},
   "source": [
    "Vamos utlizar novamente o método \"groupby\", agora agrupando os dados através das razões das falhas. "
   ]
  },
  {
   "cell_type": "code",
   "execution_count": 19,
   "metadata": {},
   "outputs": [
    {
     "data": {
      "text/html": [
       "<div>\n",
       "<style scoped>\n",
       "    .dataframe tbody tr th:only-of-type {\n",
       "        vertical-align: middle;\n",
       "    }\n",
       "\n",
       "    .dataframe tbody tr th {\n",
       "        vertical-align: top;\n",
       "    }\n",
       "\n",
       "    .dataframe thead tr th {\n",
       "        text-align: left;\n",
       "    }\n",
       "\n",
       "    .dataframe thead tr:last-of-type th {\n",
       "        text-align: right;\n",
       "    }\n",
       "</style>\n",
       "<table border=\"1\" class=\"dataframe\">\n",
       "  <thead>\n",
       "    <tr>\n",
       "      <th></th>\n",
       "      <th colspan=\"8\" halign=\"left\">Off-line.duration</th>\n",
       "    </tr>\n",
       "    <tr>\n",
       "      <th></th>\n",
       "      <th>count</th>\n",
       "      <th>mean</th>\n",
       "      <th>std</th>\n",
       "      <th>min</th>\n",
       "      <th>25%</th>\n",
       "      <th>50%</th>\n",
       "      <th>75%</th>\n",
       "      <th>max</th>\n",
       "    </tr>\n",
       "    <tr>\n",
       "      <th>High.Level.Reason</th>\n",
       "      <th></th>\n",
       "      <th></th>\n",
       "      <th></th>\n",
       "      <th></th>\n",
       "      <th></th>\n",
       "      <th></th>\n",
       "      <th></th>\n",
       "      <th></th>\n",
       "    </tr>\n",
       "  </thead>\n",
       "  <tbody>\n",
       "    <tr>\n",
       "      <th>CP_OFF</th>\n",
       "      <td>8897.0</td>\n",
       "      <td>3.962294</td>\n",
       "      <td>5.075384</td>\n",
       "      <td>0.000000</td>\n",
       "      <td>0.850000</td>\n",
       "      <td>2.033333</td>\n",
       "      <td>5.750000</td>\n",
       "      <td>68.216667</td>\n",
       "    </tr>\n",
       "    <tr>\n",
       "      <th>Freezing</th>\n",
       "      <td>397.0</td>\n",
       "      <td>8.526784</td>\n",
       "      <td>9.328962</td>\n",
       "      <td>0.333333</td>\n",
       "      <td>2.166667</td>\n",
       "      <td>7.483333</td>\n",
       "      <td>11.850000</td>\n",
       "      <td>72.133333</td>\n",
       "    </tr>\n",
       "    <tr>\n",
       "      <th>Maintenance</th>\n",
       "      <td>57.0</td>\n",
       "      <td>1.698830</td>\n",
       "      <td>1.534646</td>\n",
       "      <td>0.316667</td>\n",
       "      <td>1.016667</td>\n",
       "      <td>1.200000</td>\n",
       "      <td>1.850000</td>\n",
       "      <td>7.183333</td>\n",
       "    </tr>\n",
       "    <tr>\n",
       "      <th>Most.p(CP_OFF)</th>\n",
       "      <td>5693.0</td>\n",
       "      <td>4.205900</td>\n",
       "      <td>6.385251</td>\n",
       "      <td>0.000000</td>\n",
       "      <td>0.866667</td>\n",
       "      <td>1.916667</td>\n",
       "      <td>4.983333</td>\n",
       "      <td>79.166667</td>\n",
       "    </tr>\n",
       "    <tr>\n",
       "      <th>Reparations</th>\n",
       "      <td>582.0</td>\n",
       "      <td>10.545034</td>\n",
       "      <td>14.914413</td>\n",
       "      <td>0.216667</td>\n",
       "      <td>2.950000</td>\n",
       "      <td>6.466667</td>\n",
       "      <td>10.383333</td>\n",
       "      <td>156.200000</td>\n",
       "    </tr>\n",
       "  </tbody>\n",
       "</table>\n",
       "</div>"
      ],
      "text/plain": [
       "                  Off-line.duration                                            \\\n",
       "                              count       mean        std       min       25%   \n",
       "High.Level.Reason                                                               \n",
       "CP_OFF                       8897.0   3.962294   5.075384  0.000000  0.850000   \n",
       "Freezing                      397.0   8.526784   9.328962  0.333333  2.166667   \n",
       "Maintenance                    57.0   1.698830   1.534646  0.316667  1.016667   \n",
       "Most.p(CP_OFF)               5693.0   4.205900   6.385251  0.000000  0.866667   \n",
       "Reparations                   582.0  10.545034  14.914413  0.216667  2.950000   \n",
       "\n",
       "                                                    \n",
       "                        50%        75%         max  \n",
       "High.Level.Reason                                   \n",
       "CP_OFF             2.033333   5.750000   68.216667  \n",
       "Freezing           7.483333  11.850000   72.133333  \n",
       "Maintenance        1.200000   1.850000    7.183333  \n",
       "Most.p(CP_OFF)     1.916667   4.983333   79.166667  \n",
       "Reparations        6.466667  10.383333  156.200000  "
      ]
     },
     "execution_count": 19,
     "metadata": {},
     "output_type": "execute_result"
    }
   ],
   "source": [
    "df.groupby('High.Level.Reason').describe()"
   ]
  },
  {
   "cell_type": "markdown",
   "metadata": {},
   "source": [
    "Nota se que a causa **\"Reparations\"** possui a maior média de tempo, vamos analisar quais zonas mais estão passando por reparos, consequentemente ficando mais tempo paradas. "
   ]
  },
  {
   "cell_type": "code",
   "execution_count": 22,
   "metadata": {},
   "outputs": [
    {
     "data": {
      "text/html": [
       "<div>\n",
       "<style scoped>\n",
       "    .dataframe tbody tr th:only-of-type {\n",
       "        vertical-align: middle;\n",
       "    }\n",
       "\n",
       "    .dataframe tbody tr th {\n",
       "        vertical-align: top;\n",
       "    }\n",
       "\n",
       "    .dataframe thead th {\n",
       "        text-align: right;\n",
       "    }\n",
       "</style>\n",
       "<table border=\"1\" class=\"dataframe\">\n",
       "  <thead>\n",
       "    <tr style=\"text-align: right;\">\n",
       "      <th></th>\n",
       "      <th>Off-line.duration</th>\n",
       "    </tr>\n",
       "    <tr>\n",
       "      <th>Zone</th>\n",
       "      <th></th>\n",
       "    </tr>\n",
       "  </thead>\n",
       "  <tbody>\n",
       "    <tr>\n",
       "      <th>ZoneASTE</th>\n",
       "      <td>16.236111</td>\n",
       "    </tr>\n",
       "    <tr>\n",
       "      <th>ZoneBMAR</th>\n",
       "      <td>11.373691</td>\n",
       "    </tr>\n",
       "    <tr>\n",
       "      <th>ZoneCKAS</th>\n",
       "      <td>12.194422</td>\n",
       "    </tr>\n",
       "    <tr>\n",
       "      <th>ZoneDSHA</th>\n",
       "      <td>9.541571</td>\n",
       "    </tr>\n",
       "    <tr>\n",
       "      <th>ZoneEHAD</th>\n",
       "      <td>12.463888</td>\n",
       "    </tr>\n",
       "    <tr>\n",
       "      <th>ZoneFMTU</th>\n",
       "      <td>6.205556</td>\n",
       "    </tr>\n",
       "    <tr>\n",
       "      <th>ZoneGSHO</th>\n",
       "      <td>15.893333</td>\n",
       "    </tr>\n",
       "    <tr>\n",
       "      <th>ZoneHASK</th>\n",
       "      <td>8.898387</td>\n",
       "    </tr>\n",
       "  </tbody>\n",
       "</table>\n",
       "</div>"
      ],
      "text/plain": [
       "          Off-line.duration\n",
       "Zone                       \n",
       "ZoneASTE          16.236111\n",
       "ZoneBMAR          11.373691\n",
       "ZoneCKAS          12.194422\n",
       "ZoneDSHA           9.541571\n",
       "ZoneEHAD          12.463888\n",
       "ZoneFMTU           6.205556\n",
       "ZoneGSHO          15.893333\n",
       "ZoneHASK           8.898387"
      ]
     },
     "execution_count": 22,
     "metadata": {},
     "output_type": "execute_result"
    }
   ],
   "source": [
    "df[df['High.Level.Reason']=='Reparations'].groupby('Zone').mean()"
   ]
  },
  {
   "cell_type": "markdown",
   "metadata": {},
   "source": [
    "As zonas com maiores médias de tempo \"Off-line\", quando necessitam de reparos, são as zonas **\"ZoneASTE\"** e **\"ZoneGSHO\"**.\t"
   ]
  },
  {
   "cell_type": "markdown",
   "metadata": {},
   "source": [
    "# Conclusões:\n",
    "vamos utilizar o \"Describe()\" feito acima, para tirar algumas conclusões. "
   ]
  },
  {
   "cell_type": "code",
   "execution_count": 41,
   "metadata": {},
   "outputs": [
    {
     "data": {
      "text/html": [
       "<div>\n",
       "<style scoped>\n",
       "    .dataframe tbody tr th:only-of-type {\n",
       "        vertical-align: middle;\n",
       "    }\n",
       "\n",
       "    .dataframe tbody tr th {\n",
       "        vertical-align: top;\n",
       "    }\n",
       "\n",
       "    .dataframe thead tr th {\n",
       "        text-align: left;\n",
       "    }\n",
       "\n",
       "    .dataframe thead tr:last-of-type th {\n",
       "        text-align: right;\n",
       "    }\n",
       "</style>\n",
       "<table border=\"1\" class=\"dataframe\">\n",
       "  <thead>\n",
       "    <tr>\n",
       "      <th></th>\n",
       "      <th colspan=\"8\" halign=\"left\">Off-line.duration</th>\n",
       "    </tr>\n",
       "    <tr>\n",
       "      <th></th>\n",
       "      <th>count</th>\n",
       "      <th>mean</th>\n",
       "      <th>std</th>\n",
       "      <th>min</th>\n",
       "      <th>25%</th>\n",
       "      <th>50%</th>\n",
       "      <th>75%</th>\n",
       "      <th>max</th>\n",
       "    </tr>\n",
       "    <tr>\n",
       "      <th>High.Level.Reason</th>\n",
       "      <th></th>\n",
       "      <th></th>\n",
       "      <th></th>\n",
       "      <th></th>\n",
       "      <th></th>\n",
       "      <th></th>\n",
       "      <th></th>\n",
       "      <th></th>\n",
       "    </tr>\n",
       "  </thead>\n",
       "  <tbody>\n",
       "    <tr>\n",
       "      <th>CP_OFF</th>\n",
       "      <td>8897.0</td>\n",
       "      <td>3.962294</td>\n",
       "      <td>5.075384</td>\n",
       "      <td>0.000000</td>\n",
       "      <td>0.850000</td>\n",
       "      <td>2.033333</td>\n",
       "      <td>5.750000</td>\n",
       "      <td>68.216667</td>\n",
       "    </tr>\n",
       "    <tr>\n",
       "      <th>Freezing</th>\n",
       "      <td>397.0</td>\n",
       "      <td>8.526784</td>\n",
       "      <td>9.328962</td>\n",
       "      <td>0.333333</td>\n",
       "      <td>2.166667</td>\n",
       "      <td>7.483333</td>\n",
       "      <td>11.850000</td>\n",
       "      <td>72.133333</td>\n",
       "    </tr>\n",
       "    <tr>\n",
       "      <th>Maintenance</th>\n",
       "      <td>57.0</td>\n",
       "      <td>1.698830</td>\n",
       "      <td>1.534646</td>\n",
       "      <td>0.316667</td>\n",
       "      <td>1.016667</td>\n",
       "      <td>1.200000</td>\n",
       "      <td>1.850000</td>\n",
       "      <td>7.183333</td>\n",
       "    </tr>\n",
       "    <tr>\n",
       "      <th>Most.p(CP_OFF)</th>\n",
       "      <td>5693.0</td>\n",
       "      <td>4.205900</td>\n",
       "      <td>6.385251</td>\n",
       "      <td>0.000000</td>\n",
       "      <td>0.866667</td>\n",
       "      <td>1.916667</td>\n",
       "      <td>4.983333</td>\n",
       "      <td>79.166667</td>\n",
       "    </tr>\n",
       "    <tr>\n",
       "      <th>Reparations</th>\n",
       "      <td>582.0</td>\n",
       "      <td>10.545034</td>\n",
       "      <td>14.914413</td>\n",
       "      <td>0.216667</td>\n",
       "      <td>2.950000</td>\n",
       "      <td>6.466667</td>\n",
       "      <td>10.383333</td>\n",
       "      <td>156.200000</td>\n",
       "    </tr>\n",
       "  </tbody>\n",
       "</table>\n",
       "</div>"
      ],
      "text/plain": [
       "                  Off-line.duration                                            \\\n",
       "                              count       mean        std       min       25%   \n",
       "High.Level.Reason                                                               \n",
       "CP_OFF                       8897.0   3.962294   5.075384  0.000000  0.850000   \n",
       "Freezing                      397.0   8.526784   9.328962  0.333333  2.166667   \n",
       "Maintenance                    57.0   1.698830   1.534646  0.316667  1.016667   \n",
       "Most.p(CP_OFF)               5693.0   4.205900   6.385251  0.000000  0.866667   \n",
       "Reparations                   582.0  10.545034  14.914413  0.216667  2.950000   \n",
       "\n",
       "                                                    \n",
       "                        50%        75%         max  \n",
       "High.Level.Reason                                   \n",
       "CP_OFF             2.033333   5.750000   68.216667  \n",
       "Freezing           7.483333  11.850000   72.133333  \n",
       "Maintenance        1.200000   1.850000    7.183333  \n",
       "Most.p(CP_OFF)     1.916667   4.983333   79.166667  \n",
       "Reparations        6.466667  10.383333  156.200000  "
      ]
     },
     "execution_count": 41,
     "metadata": {},
     "output_type": "execute_result"
    }
   ],
   "source": [
    "df.groupby('High.Level.Reason').describe()"
   ]
  },
  {
   "cell_type": "markdown",
   "metadata": {},
   "source": [
    "Algo muito interessante da para se notar nestes dados. Há um número muito pequeno de manutenção das máquinas, apenas 57 casos foram registrados no sistema; poderia ser este a causa dos outros problemas... A Falta de **manutenção** ?. <br>\n",
    "Há também um número significativo de congelamentos das máquinas, com a segunda maior média de tempo. <br> \n",
    "E se a empresa aumentasse o número de manutenções, será que os casos iriam diminuir ?<br><br>\n",
    "**OBS:** Junto ao projeto estará o rascunho do mesmo, com algumas informações adicionais, que julguei não sendo de muito relevancia para estarem do projeto final. "
   ]
  }
 ],
 "metadata": {
  "kernelspec": {
   "display_name": "Python 3",
   "language": "python",
   "name": "python3"
  },
  "language_info": {
   "codemirror_mode": {
    "name": "ipython",
    "version": 3
   },
   "file_extension": ".py",
   "mimetype": "text/x-python",
   "name": "python",
   "nbconvert_exporter": "python",
   "pygments_lexer": "ipython3",
   "version": "3.7.4"
  }
 },
 "nbformat": 4,
 "nbformat_minor": 4
}
