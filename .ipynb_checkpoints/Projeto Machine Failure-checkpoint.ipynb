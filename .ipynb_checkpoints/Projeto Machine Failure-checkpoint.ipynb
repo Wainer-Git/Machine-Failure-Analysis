{
 "cells": [
  {
   "cell_type": "markdown",
   "metadata": {},
   "source": [
    "# Projeto - Machine Failure\n",
    "No presente projeto será realizado a análise exploratória dos dados recolhidos de um sistema de monitoramento de falhas em maquinas. Aplicando conceitos de ciencia de dados, se chegará a algumas conclusões a respeito destas falhas, auxiliando na tomada de decisão dos gestores (fictícios) da área.<br>\n",
    "A base de dados possui as seguintes colunas: <br>\n",
    "**Report.date**: data do reporte; <br>\n",
    "**Mlocation**: localização da máquina;<br>\n",
    "**Zone**: zona onde a máquina está localizada;<br>\n",
    "**Start.date.time**: data e horário da falha da máquina;<br>\n",
    "**End.date.time**: data e horária que a máquina voltou a funcionar;<br>\n",
    "**Notification.sent**: data e horário que o sistema de monitoramento notificou a falha;<br>\n",
    "**Off-line.duration**: quando tempo a maquina ficou off-line;<br>\n",
    "**High.Level.Reason**: razão da falha;<br><br><br>\n",
    "Agora será importado as bibliotecas e a base de dados utilizada. \n"
   ]
  },
  {
   "cell_type": "code",
   "execution_count": 1,
   "metadata": {},
   "outputs": [],
   "source": [
    "import pandas as pd \n",
    "import seaborn as sns \n",
    "import numpy as np \n",
    "import matplotlib.pyplot as plt "
   ]
  },
  {
   "cell_type": "code",
   "execution_count": 2,
   "metadata": {},
   "outputs": [
    {
     "data": {
      "text/html": [
       "<div>\n",
       "<style scoped>\n",
       "    .dataframe tbody tr th:only-of-type {\n",
       "        vertical-align: middle;\n",
       "    }\n",
       "\n",
       "    .dataframe tbody tr th {\n",
       "        vertical-align: top;\n",
       "    }\n",
       "\n",
       "    .dataframe thead th {\n",
       "        text-align: right;\n",
       "    }\n",
       "</style>\n",
       "<table border=\"1\" class=\"dataframe\">\n",
       "  <thead>\n",
       "    <tr style=\"text-align: right;\">\n",
       "      <th></th>\n",
       "      <th>Report.date</th>\n",
       "      <th>Mlocation</th>\n",
       "      <th>Zone</th>\n",
       "      <th>Start.date.time</th>\n",
       "      <th>End.date.time</th>\n",
       "      <th>Notification.sent</th>\n",
       "      <th>Off-line.duration</th>\n",
       "      <th>High.Level.Reason</th>\n",
       "    </tr>\n",
       "  </thead>\n",
       "  <tbody>\n",
       "    <tr>\n",
       "      <th>0</th>\n",
       "      <td>2018-09-01T00:00:00Z</td>\n",
       "      <td>AM0035</td>\n",
       "      <td>ZoneHASK</td>\n",
       "      <td>2018-09-01T07:49:00Z</td>\n",
       "      <td>2018-09-01T09:40:00Z</td>\n",
       "      <td>2018-09-01T08:10:00Z</td>\n",
       "      <td>1.850000</td>\n",
       "      <td>Most.p(CP_OFF)</td>\n",
       "    </tr>\n",
       "    <tr>\n",
       "      <th>1</th>\n",
       "      <td>2018-09-01T00:00:00Z</td>\n",
       "      <td>NM0208</td>\n",
       "      <td>ZoneBMAR</td>\n",
       "      <td>2018-09-01T11:43:00Z</td>\n",
       "      <td>2018-09-01T12:08:00Z</td>\n",
       "      <td>2018-09-01T12:03:00Z</td>\n",
       "      <td>0.416667</td>\n",
       "      <td>Most.p(CP_OFF)</td>\n",
       "    </tr>\n",
       "    <tr>\n",
       "      <th>2</th>\n",
       "      <td>2018-09-01T00:00:00Z</td>\n",
       "      <td>NM0217</td>\n",
       "      <td>ZoneBMAR</td>\n",
       "      <td>2018-09-01T11:43:00Z</td>\n",
       "      <td>2018-09-01T12:08:00Z</td>\n",
       "      <td>2018-09-01T12:03:00Z</td>\n",
       "      <td>0.416667</td>\n",
       "      <td>Most.p(CP_OFF)</td>\n",
       "    </tr>\n",
       "    <tr>\n",
       "      <th>3</th>\n",
       "      <td>2018-09-01T00:00:00Z</td>\n",
       "      <td>AM0015</td>\n",
       "      <td>ZoneBMAR</td>\n",
       "      <td>2018-09-01T11:20:00Z</td>\n",
       "      <td>2018-09-01T14:43:00Z</td>\n",
       "      <td>2018-09-01T11:40:00Z</td>\n",
       "      <td>3.383333</td>\n",
       "      <td>Most.p(CP_OFF)</td>\n",
       "    </tr>\n",
       "    <tr>\n",
       "      <th>4</th>\n",
       "      <td>2018-09-01T00:00:00Z</td>\n",
       "      <td>GM0066</td>\n",
       "      <td>ZoneBMAR</td>\n",
       "      <td>2018-09-01T11:20:00Z</td>\n",
       "      <td>2018-09-01T14:43:00Z</td>\n",
       "      <td>2018-09-01T11:40:00Z</td>\n",
       "      <td>3.383333</td>\n",
       "      <td>Most.p(CP_OFF)</td>\n",
       "    </tr>\n",
       "  </tbody>\n",
       "</table>\n",
       "</div>"
      ],
      "text/plain": [
       "            Report.date Mlocation      Zone       Start.date.time  \\\n",
       "0  2018-09-01T00:00:00Z    AM0035  ZoneHASK  2018-09-01T07:49:00Z   \n",
       "1  2018-09-01T00:00:00Z    NM0208  ZoneBMAR  2018-09-01T11:43:00Z   \n",
       "2  2018-09-01T00:00:00Z    NM0217  ZoneBMAR  2018-09-01T11:43:00Z   \n",
       "3  2018-09-01T00:00:00Z    AM0015  ZoneBMAR  2018-09-01T11:20:00Z   \n",
       "4  2018-09-01T00:00:00Z    GM0066  ZoneBMAR  2018-09-01T11:20:00Z   \n",
       "\n",
       "          End.date.time     Notification.sent  Off-line.duration  \\\n",
       "0  2018-09-01T09:40:00Z  2018-09-01T08:10:00Z           1.850000   \n",
       "1  2018-09-01T12:08:00Z  2018-09-01T12:03:00Z           0.416667   \n",
       "2  2018-09-01T12:08:00Z  2018-09-01T12:03:00Z           0.416667   \n",
       "3  2018-09-01T14:43:00Z  2018-09-01T11:40:00Z           3.383333   \n",
       "4  2018-09-01T14:43:00Z  2018-09-01T11:40:00Z           3.383333   \n",
       "\n",
       "  High.Level.Reason  \n",
       "0    Most.p(CP_OFF)  \n",
       "1    Most.p(CP_OFF)  \n",
       "2    Most.p(CP_OFF)  \n",
       "3    Most.p(CP_OFF)  \n",
       "4    Most.p(CP_OFF)  "
      ]
     },
     "execution_count": 2,
     "metadata": {},
     "output_type": "execute_result"
    }
   ],
   "source": [
    "df = pd.read_csv('MFAR.csv')\n",
    "df.head()"
   ]
  },
  {
   "cell_type": "markdown",
   "metadata": {},
   "source": [
    "Vamos utilizar o método **\".info()\"** para verificar o tamanho do DataFrame, e para verificar se o mesmo possui algum dado faltante, vamos utilizar um mapa de calor da biblioteca **seaborn**."
   ]
  },
  {
   "cell_type": "code",
   "execution_count": 3,
   "metadata": {},
   "outputs": [
    {
     "name": "stdout",
     "output_type": "stream",
     "text": [
      "<class 'pandas.core.frame.DataFrame'>\n",
      "RangeIndex: 15626 entries, 0 to 15625\n",
      "Data columns (total 8 columns):\n",
      " #   Column             Non-Null Count  Dtype  \n",
      "---  ------             --------------  -----  \n",
      " 0   Report.date        15626 non-null  object \n",
      " 1   Mlocation          15626 non-null  object \n",
      " 2   Zone               15626 non-null  object \n",
      " 3   Start.date.time    15626 non-null  object \n",
      " 4   End.date.time      15626 non-null  object \n",
      " 5   Notification.sent  15626 non-null  object \n",
      " 6   Off-line.duration  15626 non-null  float64\n",
      " 7   High.Level.Reason  15626 non-null  object \n",
      "dtypes: float64(1), object(7)\n",
      "memory usage: 976.8+ KB\n"
     ]
    }
   ],
   "source": [
    "df.info()"
   ]
  },
  {
   "cell_type": "code",
   "execution_count": 4,
   "metadata": {},
   "outputs": [
    {
     "data": {
      "text/plain": [
       "<matplotlib.axes._subplots.AxesSubplot at 0xfdb141e7c8>"
      ]
     },
     "execution_count": 4,
     "metadata": {},
     "output_type": "execute_result"
    },
    {
     "data": {
      "image/png": "[encoded data removed]",
      "text/plain": [
       "<Figure size 432x288 with 2 Axes>"
      ]
     },
     "metadata": {
      "needs_background": "light"
     },
     "output_type": "display_data"
    }
   ],
   "source": [
    "sns.heatmap(df.isnull())"
   ]
  },
  {
   "cell_type": "markdown",
   "metadata": {},
   "source": [
    "# Tratando os dados das colunas relacionadas ao tempo.\n",
    "Nas colunas relacionadas ao tempo, temos dados de data e hora, que serião interessantes de serem trabalhados separadamente. Para separar a data do horário, iremos aplicar um função **lambda** e assim criar novas colunas com os dados **\"splitados\"**;<br><br> Antes vamos renomear as colunas para facilitar este processo. "
   ]
  },
  {
   "cell_type": "code",
   "execution_count": 5,
   "metadata": {},
   "outputs": [
    {
     "data": {
      "text/html": [
       "<div>\n",
       "<style scoped>\n",
       "    .dataframe tbody tr th:only-of-type {\n",
       "        vertical-align: middle;\n",
       "    }\n",
       "\n",
       "    .dataframe tbody tr th {\n",
       "        vertical-align: top;\n",
       "    }\n",
       "\n",
       "    .dataframe thead th {\n",
       "        text-align: right;\n",
       "    }\n",
       "</style>\n",
       "<table border=\"1\" class=\"dataframe\">\n",
       "  <thead>\n",
       "    <tr style=\"text-align: right;\">\n",
       "      <th></th>\n",
       "      <th>Report.date</th>\n",
       "      <th>Mlocation</th>\n",
       "      <th>Zone</th>\n",
       "      <th>Start.date.time</th>\n",
       "      <th>End.date.time</th>\n",
       "      <th>Notification.sent</th>\n",
       "      <th>Off-line.duration</th>\n",
       "      <th>High.Level.Reason</th>\n",
       "    </tr>\n",
       "  </thead>\n",
       "  <tbody>\n",
       "    <tr>\n",
       "      <th>0</th>\n",
       "      <td>2018-09-01T00:00:00Z</td>\n",
       "      <td>AM0035</td>\n",
       "      <td>ZoneHASK</td>\n",
       "      <td>2018-09-01T07:49:00Z</td>\n",
       "      <td>2018-09-01T09:40:00Z</td>\n",
       "      <td>2018-09-01T08:10:00Z</td>\n",
       "      <td>1.850000</td>\n",
       "      <td>Most.p(CP_OFF)</td>\n",
       "    </tr>\n",
       "    <tr>\n",
       "      <th>1</th>\n",
       "      <td>2018-09-01T00:00:00Z</td>\n",
       "      <td>NM0208</td>\n",
       "      <td>ZoneBMAR</td>\n",
       "      <td>2018-09-01T11:43:00Z</td>\n",
       "      <td>2018-09-01T12:08:00Z</td>\n",
       "      <td>2018-09-01T12:03:00Z</td>\n",
       "      <td>0.416667</td>\n",
       "      <td>Most.p(CP_OFF)</td>\n",
       "    </tr>\n",
       "  </tbody>\n",
       "</table>\n",
       "</div>"
      ],
      "text/plain": [
       "            Report.date Mlocation      Zone       Start.date.time  \\\n",
       "0  2018-09-01T00:00:00Z    AM0035  ZoneHASK  2018-09-01T07:49:00Z   \n",
       "1  2018-09-01T00:00:00Z    NM0208  ZoneBMAR  2018-09-01T11:43:00Z   \n",
       "\n",
       "          End.date.time     Notification.sent  Off-line.duration  \\\n",
       "0  2018-09-01T09:40:00Z  2018-09-01T08:10:00Z           1.850000   \n",
       "1  2018-09-01T12:08:00Z  2018-09-01T12:03:00Z           0.416667   \n",
       "\n",
       "  High.Level.Reason  \n",
       "0    Most.p(CP_OFF)  \n",
       "1    Most.p(CP_OFF)  "
      ]
     },
     "execution_count": 5,
     "metadata": {},
     "output_type": "execute_result"
    }
   ],
   "source": [
    "df.head(2)"
   ]
  },
  {
   "cell_type": "code",
   "execution_count": 11,
   "metadata": {},
   "outputs": [],
   "source": [
    "df.rename(columns={'Report.date':'ReportDate', 'Start.date.time':'StartDT','End.date.time':'NotSent',\"Notification.sent\":'Nsent' }, inplace=True)"
   ]
  },
  {
   "cell_type": "code",
   "execution_count": 13,
   "metadata": {},
   "outputs": [
    {
     "data": {
      "text/plain": [
       "Index(['ReportDate', 'Mlocation', 'Zone', 'StartDT', 'NotSent', 'Nsent',\n",
       "       'Off-line.duration', 'High.Level.Reason'],\n",
       "      dtype='object')"
      ]
     },
     "execution_count": 13,
     "metadata": {},
     "output_type": "execute_result"
    }
   ],
   "source": [
    "df.columns"
   ]
  },
  {
   "cell_type": "markdown",
   "metadata": {},
   "source": [
    "Agora vamos aplicar as funções e assim criar novas colunas para o DataFrame."
   ]
  },
  {
   "cell_type": "code",
   "execution_count": 14,
   "metadata": {},
   "outputs": [],
   "source": [
    "df['Data de Reporte'] = df['ReportDate'].apply(lambda ReportDate: ReportDate.split('T')[0])\n",
    "df['Horário de Reporte'] = df['ReportDate'].apply(lambda ReportDate: ReportDate.split('T')[1])\n",
    "df['Start Hour'] = df['StartDT'].apply(lambda StartDT: StartDT.split('T')[1])\n",
    "df['End Hour'] = df['NotSent'].apply(lambda NotSent: NotSent.split('T')[1])\n",
    "df['Notification Hour '] = df['Nsent'].apply(lambda Nsent: Nsent.split('T')[1])"
   ]
  },
  {
   "cell_type": "code",
   "execution_count": 15,
   "metadata": {},
   "outputs": [
    {
     "data": {
      "text/html": [
       "<div>\n",
       "<style scoped>\n",
       "    .dataframe tbody tr th:only-of-type {\n",
       "        vertical-align: middle;\n",
       "    }\n",
       "\n",
       "    .dataframe tbody tr th {\n",
       "        vertical-align: top;\n",
       "    }\n",
       "\n",
       "    .dataframe thead th {\n",
       "        text-align: right;\n",
       "    }\n",
       "</style>\n",
       "<table border=\"1\" class=\"dataframe\">\n",
       "  <thead>\n",
       "    <tr style=\"text-align: right;\">\n",
       "      <th></th>\n",
       "      <th>ReportDate</th>\n",
       "      <th>Mlocation</th>\n",
       "      <th>Zone</th>\n",
       "      <th>StartDT</th>\n",
       "      <th>NotSent</th>\n",
       "      <th>Nsent</th>\n",
       "      <th>Off-line.duration</th>\n",
       "      <th>High.Level.Reason</th>\n",
       "      <th>Data de Reporte</th>\n",
       "      <th>Horário de Reporte</th>\n",
       "      <th>Start Hour</th>\n",
       "      <th>End Hour</th>\n",
       "      <th>Notification Hour</th>\n",
       "    </tr>\n",
       "  </thead>\n",
       "  <tbody>\n",
       "    <tr>\n",
       "      <th>0</th>\n",
       "      <td>2018-09-01T00:00:00Z</td>\n",
       "      <td>AM0035</td>\n",
       "      <td>ZoneHASK</td>\n",
       "      <td>2018-09-01T07:49:00Z</td>\n",
       "      <td>2018-09-01T09:40:00Z</td>\n",
       "      <td>2018-09-01T08:10:00Z</td>\n",
       "      <td>1.850000</td>\n",
       "      <td>Most.p(CP_OFF)</td>\n",
       "      <td>2018-09-01</td>\n",
       "      <td>00:00:00Z</td>\n",
       "      <td>07:49:00Z</td>\n",
       "      <td>09:40:00Z</td>\n",
       "      <td>08:10:00Z</td>\n",
       "    </tr>\n",
       "    <tr>\n",
       "      <th>1</th>\n",
       "      <td>2018-09-01T00:00:00Z</td>\n",
       "      <td>NM0208</td>\n",
       "      <td>ZoneBMAR</td>\n",
       "      <td>2018-09-01T11:43:00Z</td>\n",
       "      <td>2018-09-01T12:08:00Z</td>\n",
       "      <td>2018-09-01T12:03:00Z</td>\n",
       "      <td>0.416667</td>\n",
       "      <td>Most.p(CP_OFF)</td>\n",
       "      <td>2018-09-01</td>\n",
       "      <td>00:00:00Z</td>\n",
       "      <td>11:43:00Z</td>\n",
       "      <td>12:08:00Z</td>\n",
       "      <td>12:03:00Z</td>\n",
       "    </tr>\n",
       "    <tr>\n",
       "      <th>2</th>\n",
       "      <td>2018-09-01T00:00:00Z</td>\n",
       "      <td>NM0217</td>\n",
       "      <td>ZoneBMAR</td>\n",
       "      <td>2018-09-01T11:43:00Z</td>\n",
       "      <td>2018-09-01T12:08:00Z</td>\n",
       "      <td>2018-09-01T12:03:00Z</td>\n",
       "      <td>0.416667</td>\n",
       "      <td>Most.p(CP_OFF)</td>\n",
       "      <td>2018-09-01</td>\n",
       "      <td>00:00:00Z</td>\n",
       "      <td>11:43:00Z</td>\n",
       "      <td>12:08:00Z</td>\n",
       "      <td>12:03:00Z</td>\n",
       "    </tr>\n",
       "    <tr>\n",
       "      <th>3</th>\n",
       "      <td>2018-09-01T00:00:00Z</td>\n",
       "      <td>AM0015</td>\n",
       "      <td>ZoneBMAR</td>\n",
       "      <td>2018-09-01T11:20:00Z</td>\n",
       "      <td>2018-09-01T14:43:00Z</td>\n",
       "      <td>2018-09-01T11:40:00Z</td>\n",
       "      <td>3.383333</td>\n",
       "      <td>Most.p(CP_OFF)</td>\n",
       "      <td>2018-09-01</td>\n",
       "      <td>00:00:00Z</td>\n",
       "      <td>11:20:00Z</td>\n",
       "      <td>14:43:00Z</td>\n",
       "      <td>11:40:00Z</td>\n",
       "    </tr>\n",
       "    <tr>\n",
       "      <th>4</th>\n",
       "      <td>2018-09-01T00:00:00Z</td>\n",
       "      <td>GM0066</td>\n",
       "      <td>ZoneBMAR</td>\n",
       "      <td>2018-09-01T11:20:00Z</td>\n",
       "      <td>2018-09-01T14:43:00Z</td>\n",
       "      <td>2018-09-01T11:40:00Z</td>\n",
       "      <td>3.383333</td>\n",
       "      <td>Most.p(CP_OFF)</td>\n",
       "      <td>2018-09-01</td>\n",
       "      <td>00:00:00Z</td>\n",
       "      <td>11:20:00Z</td>\n",
       "      <td>14:43:00Z</td>\n",
       "      <td>11:40:00Z</td>\n",
       "    </tr>\n",
       "  </tbody>\n",
       "</table>\n",
       "</div>"
      ],
      "text/plain": [
       "             ReportDate Mlocation      Zone               StartDT  \\\n",
       "0  2018-09-01T00:00:00Z    AM0035  ZoneHASK  2018-09-01T07:49:00Z   \n",
       "1  2018-09-01T00:00:00Z    NM0208  ZoneBMAR  2018-09-01T11:43:00Z   \n",
       "2  2018-09-01T00:00:00Z    NM0217  ZoneBMAR  2018-09-01T11:43:00Z   \n",
       "3  2018-09-01T00:00:00Z    AM0015  ZoneBMAR  2018-09-01T11:20:00Z   \n",
       "4  2018-09-01T00:00:00Z    GM0066  ZoneBMAR  2018-09-01T11:20:00Z   \n",
       "\n",
       "                NotSent                 Nsent  Off-line.duration  \\\n",
       "0  2018-09-01T09:40:00Z  2018-09-01T08:10:00Z           1.850000   \n",
       "1  2018-09-01T12:08:00Z  2018-09-01T12:03:00Z           0.416667   \n",
       "2  2018-09-01T12:08:00Z  2018-09-01T12:03:00Z           0.416667   \n",
       "3  2018-09-01T14:43:00Z  2018-09-01T11:40:00Z           3.383333   \n",
       "4  2018-09-01T14:43:00Z  2018-09-01T11:40:00Z           3.383333   \n",
       "\n",
       "  High.Level.Reason Data de Reporte Horário de Reporte Start Hour   End Hour  \\\n",
       "0    Most.p(CP_OFF)      2018-09-01          00:00:00Z  07:49:00Z  09:40:00Z   \n",
       "1    Most.p(CP_OFF)      2018-09-01          00:00:00Z  11:43:00Z  12:08:00Z   \n",
       "2    Most.p(CP_OFF)      2018-09-01          00:00:00Z  11:43:00Z  12:08:00Z   \n",
       "3    Most.p(CP_OFF)      2018-09-01          00:00:00Z  11:20:00Z  14:43:00Z   \n",
       "4    Most.p(CP_OFF)      2018-09-01          00:00:00Z  11:20:00Z  14:43:00Z   \n",
       "\n",
       "  Notification Hour   \n",
       "0          08:10:00Z  \n",
       "1          12:03:00Z  \n",
       "2          12:03:00Z  \n",
       "3          11:40:00Z  \n",
       "4          11:40:00Z  "
      ]
     },
     "execution_count": 15,
     "metadata": {},
     "output_type": "execute_result"
    }
   ],
   "source": [
    "df.head()"
   ]
  },
  {
   "cell_type": "code",
   "execution_count": 17,
   "metadata": {},
   "outputs": [
    {
     "data": {
      "text/plain": [
       "(15626, 13)"
      ]
     },
     "execution_count": 17,
     "metadata": {},
     "output_type": "execute_result"
    }
   ],
   "source": [
    "df.shape"
   ]
  },
  {
   "cell_type": "markdown",
   "metadata": {},
   "source": [
    "Agora ficará muito mais facil trabalhar os dados relativos ao tempo. "
   ]
  },
  {
   "cell_type": "markdown",
   "metadata": {},
   "source": []
  },
  {
   "cell_type": "code",
   "execution_count": null,
   "metadata": {},
   "outputs": [],
   "source": []
  }
 ],
 "metadata": {
  "kernelspec": {
   "display_name": "Python 3",
   "language": "python",
   "name": "python3"
  },
  "language_info": {
   "codemirror_mode": {
    "name": "ipython",
    "version": 3
   },
   "file_extension": ".py",
   "mimetype": "text/x-python",
   "name": "python",
   "nbconvert_exporter": "python",
   "pygments_lexer": "ipython3",
   "version": "3.7.4"
  }
 },
 "nbformat": 4,
 "nbformat_minor": 4
}
